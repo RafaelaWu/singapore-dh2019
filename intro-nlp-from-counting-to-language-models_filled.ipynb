{
 "cells": [
  {
   "cell_type": "markdown",
   "metadata": {},
   "source": [
    "# _Working with different kinds of ‘text’ in the Digital Humanities_\n",
    "## Singapore University of Technology and Design, 18-19 March, 2019\n",
    "## Introduction to NLP: From Counting to Lanugage Models\n",
    "\n",
    "Welcome to From Counting to Lanugage Models!\n",
    "This is a hands-on workshop focusing on various foundation techniques for Natural Language Processing and their applications in Digital Humanities nad beyond. It anything, it's a methods workshop more than a critical or theoretical workshop: the emphasis is put on the how rathen than the why or what for.\n",
    "\n",
    "<!--\n",
    "The workshop will be split into 4 sections with 10 minute breaks in-between. The sections get incrementally more advanced, building on concepts and methods from the previous sections.\n",
    "-->\n",
    "\n",
    "\n",
    "To follow along, you can run the script portions piecemeal, in order, as we progress through the workshop material. Up to you. Familiarity with programming concepts and Python is required; Numpy and Jupyter desirable.\n",
    "\n",
    "Instructor:\n",
    "\n",
    "\n",
    "<figure>\n",
    "    <img src=\"http://postdata.linhd.uned.es/wp-content/uploads/2019/02/javierweb.jpg\"\n",
    "         alt=\"Javier's picture\">\n",
    "    <figcaption>\n",
    "        <div align=\"center\">\n",
    "        <strong>Javier de la Rosa</strong>\n",
    "        <br/>\n",
    "        <em>versae@linhd.uned.es</em>, <em><a href=\"https://twitter.com/versae\">@versae</a></em>\n",
    "        <br/>\n",
    "        NLP Postdoctoral Fellow at <a href=\"http://postdata.linhd.uned.es/\">UNED's POSTADA Project</a>\n",
    "       </div>\n",
    "    </figcaption>\n",
    "</figure>\n"
   ]
  },
  {
   "cell_type": "markdown",
   "metadata": {},
   "source": [
    "## What are we covering today?\n",
    "- What is NLP\n",
    "- NLP in Python\n",
    "- Tokenization\n",
    "- Part of Speech Tagging\n",
    "- Named Entity Recognition and Relation Detection\n",
    "- Word transformations\n",
    "- Keywords in context\n",
    "- Counting\n",
    "- TF-IDF and Document-Term Matrices\n",
    "- Topic Models\n",
    "- Clustering and PCA\n",
    "- ~~Word-word matrices~~\n",
    "- ~~Word embeddings~~\n",
    "- ~~Language models~~\n",
    "\n",
    "Use cases:\n",
    "- Readability indices\n",
    "- Corpus level statistics"
   ]
  },
  {
   "cell_type": "markdown",
   "metadata": {},
   "source": [
    "## NLP in Python\n",
    "\n",
    "Python is builtin with a very mature regular expression library, which is the building block of natural language processing. However, more advanced tasks need different libraries. Traditionally, in the Python ecosystem the Natural Language Processing Toolkit, abbreviated as `NLTK`, has been until recently the only working choice. Unfortunately, the library has not aged well, and even though it's updated to work with the newer versions of Python, it does not provide us the speed we might need to process large corpora, as its intended use is merely educational.\n",
    "\n",
    "Another solution that appeared recently is called `spaCy`, and it is much faster since is written in a pseudo-C Python language optimized for speed called Cython. See the [documentation](https://spacy.io/usage/models) for details.\n",
    "\n",
    "Both these libraries are complex and therefore there exist wrappers around them to simplify their APIs. The two more popular are `Textblob` for NLTK and CLiPS Parser, and `textacy` for spaCy.  In this workshop we will be using spaCy with a touch of textacy thrown in at the very end."
   ]
  },
  {
   "cell_type": "code",
   "execution_count": 1,
   "metadata": {},
   "outputs": [
    {
     "name": "stderr",
     "output_type": "stream",
     "text": [
      "All done!\n"
     ]
    }
   ],
   "source": [
    "%%capture --no-stderr\n",
    "import sys\n",
    "!pip install Cython\n",
    "!pip install spacy nltk textacy textblob requests matplotlib scikit-learn\n",
    "!python -m spacy download en\n",
    "!python -m spacy download es\n",
    "!python -m nltk.downloader all\n",
    "print(\"All done!\", file=sys.stderr)"
   ]
  },
  {
   "cell_type": "code",
   "execution_count": 2,
   "metadata": {},
   "outputs": [],
   "source": [
    "%matplotlib inline"
   ]
  },
  {
   "cell_type": "code",
   "execution_count": 3,
   "metadata": {},
   "outputs": [],
   "source": [
    "import spacy"
   ]
  },
  {
   "cell_type": "markdown",
   "metadata": {},
   "source": [
    "Let's load the English data for now. Support for other [languages is available as well](https://spacy.io/usage/models), although some features might not work. "
   ]
  },
  {
   "cell_type": "code",
   "execution_count": 4,
   "metadata": {},
   "outputs": [],
   "source": [
    "nlp = spacy.load('en')"
   ]
  },
  {
   "cell_type": "markdown",
   "metadata": {},
   "source": [
    "We're also going to need a couple of helper functions to retrieve some texts from US presidents' State of the Union speeches."
   ]
  },
  {
   "cell_type": "code",
   "execution_count": 5,
   "metadata": {},
   "outputs": [],
   "source": [
    "# helper functions\n",
    "import requests\n",
    "\n",
    "def get_text(url):\n",
    "    return requests.get(url).text\n",
    "\n",
    "def get_speech(url):\n",
    "    page = get_text(url)\n",
    "    full_text = page.split('\\n')\n",
    "    return \" \".join(full_text[2:])"
   ]
  },
  {
   "cell_type": "code",
   "execution_count": 6,
   "metadata": {},
   "outputs": [
    {
     "name": "stdout",
     "output_type": "stream",
     "text": [
      "Mr. Speaker, Mr. Vice President, members of Congress, honored guests, my fellow Americans:  We are fortunate to be alive at this moment in history. Never before has our nation enjoyed, at once, so much prosperity and social progress with so little internal crisis and so few external threats. Never before have we had such a blessed opportunity and, therefore, such a profound obligation to build the more perfect Union of our Founders’ dreams.  We begin the new century with over 20 million new jobs ...\n"
     ]
    }
   ],
   "source": [
    "clinton_url = \"https://raw.githubusercontent.com/sul-cidr/python_workshops/master/data/clinton2000.txt\"\n",
    "clinton_speech = get_speech(clinton_url)\n",
    "print(clinton_speech[:500],  \"...\")"
   ]
  },
  {
   "cell_type": "markdown",
   "metadata": {},
   "source": [
    "Now, let's create a SpaCy `Document` of the text."
   ]
  },
  {
   "cell_type": "code",
   "execution_count": 7,
   "metadata": {},
   "outputs": [],
   "source": [
    "doc = nlp(clinton_speech)"
   ]
  },
  {
   "cell_type": "markdown",
   "metadata": {},
   "source": [
    "## Tokenization"
   ]
  },
  {
   "cell_type": "markdown",
   "metadata": {},
   "source": [
    "While basic, some cleaning has been done already. Compare these 2 texts:"
   ]
  },
  {
   "cell_type": "code",
   "execution_count": 8,
   "metadata": {},
   "outputs": [
    {
     "data": {
      "text/plain": [
       "'AS FOUND ON https://millercenter.org/the-presidency/presidential-speeches/january-27-2000-state-union-address\\nFOR USE IN ACADEMIC WORKSHOP\\nMr. Speaker, Mr. Vice President, members of Congress, honored guests, my fellow Americans:\\n\\nWe are fortunate to be alive at this moment in history. Never before has our nation enjoyed, at once, so much prosperity and social progress with so little internal crisis and so few external threats. Never before have we had such a blessed opportunity and, therefore, '"
      ]
     },
     "execution_count": 8,
     "metadata": {},
     "output_type": "execute_result"
    }
   ],
   "source": [
    "get_text(clinton_url)[:500]"
   ]
  },
  {
   "cell_type": "code",
   "execution_count": 9,
   "metadata": {},
   "outputs": [
    {
     "data": {
      "text/plain": [
       "'Mr. Speaker, Mr. Vice President, members of Congress, honored guests, my fellow Americans:  We are fortunate to be alive at this moment in history. Never before has our nation enjoyed, at once, so much prosperity and social progress with so little internal crisis and so few external threats. Never before have we had such a blessed opportunity and, therefore, such a profound obligation to build the more perfect Union of our Founders’ dreams.  We begin the new century with over 20 million new jobs'"
      ]
     },
     "execution_count": 9,
     "metadata": {},
     "output_type": "execute_result"
    }
   ],
   "source": [
    "clinton_speech[:500]"
   ]
  },
  {
   "cell_type": "markdown",
   "metadata": {},
   "source": [
    "In NLP, the act of splitting text is called tokenization, and each of the individual chunks is called a token. Therefore, we can talk about word tokenization or sentence tokenization depending on what it is that we need to divide the text into."
   ]
  },
  {
   "cell_type": "code",
   "execution_count": 10,
   "metadata": {},
   "outputs": [
    {
     "name": "stdout",
     "output_type": "stream",
     "text": [
      "Mr.\n",
      "Speaker\n",
      ",\n",
      "Mr.\n",
      "Vice\n",
      "President\n",
      ",\n",
      "members\n",
      "of\n",
      "Congress\n",
      ",\n",
      "honored\n",
      "guests\n",
      ",\n",
      "my\n",
      "fellow\n",
      "Americans\n",
      ":\n",
      " \n",
      "We\n"
     ]
    }
   ],
   "source": [
    "# word level\n",
    "for token in doc[:20]:\n",
    "    print(token.text)"
   ]
  },
  {
   "cell_type": "code",
   "execution_count": 11,
   "metadata": {
    "scrolled": true
   },
   "outputs": [
    {
     "name": "stdout",
     "output_type": "stream",
     "text": [
      "-  Mr. Speaker, Mr. Vice President, members of Congress, honored guests, my fellow Americans:  We are fortunate to be alive at this moment in history.\n",
      "-  Never before has our nation enjoyed, at once, so much prosperity and social progress with so little internal crisis and so few external threats.\n",
      "-  Never before have we had such a blessed opportunity and, therefore, such a profound obligation to build the more perfect Union of our Founders’ dreams.  \n",
      "-  We begin the new century with over 20 million new jobs; the fastest economic growth in more than 30 years; the lowest unemployment rates in 30 years; the lowest poverty rates in 20 years; the lowest African-American and Hispanic unemployment rates on record; the first back-to-back surpluses in 42 years; and next month, America will achieve the longest period of economic growth in our entire history.\n",
      "-  We have built a new economy.  \n",
      "-  And our economic revolution has been matched by a revival of the American spirit: crime down by 20 percent, to its lowest level in 25 years; teen births down seven years in a row; adoptions up by 30 percent; welfare rolls cut in half, to their lowest levels in 30 years.  \n",
      "-  My fellow Americans, the state of our Union is the strongest it has ever been.  \n",
      "-  As always, the real credit belongs to the American people.\n",
      "-  My gratitude also goes to those of you in this chamber who have worked with us to put progress over partisanship.  \n",
      "-  Eight years ago, it was not so clear to most Americans there would be much to celebrate in the year 2000.\n"
     ]
    }
   ],
   "source": [
    "# sentence level\n",
    "for token in [sent for sent in doc.sents][:10]:\n",
    "    print(\"- \", token.text)"
   ]
  },
  {
   "cell_type": "markdown",
   "metadata": {},
   "source": [
    "Very easily, SpaCy allows for the extraction of noun phrases, which can be useful sometimes."
   ]
  },
  {
   "cell_type": "code",
   "execution_count": 12,
   "metadata": {
    "scrolled": true
   },
   "outputs": [
    {
     "name": "stdout",
     "output_type": "stream",
     "text": [
      "Mr. Vice President\n",
      "members\n",
      "Congress\n",
      "honored guests\n",
      "my fellow Americans\n",
      "We\n",
      "this moment\n",
      "history\n",
      "our nation\n",
      ", so much prosperity\n"
     ]
    }
   ],
   "source": [
    "# noun phrases\n",
    "for phrase in list(doc.noun_chunks)[:10]:\n",
    "    print(phrase)"
   ]
  },
  {
   "cell_type": "markdown",
   "metadata": {},
   "source": [
    "## Part of Speech Tagging\n",
    "\n",
    "SpaCy also allows you to perform Part-Of-Speech tagging, a kind of grammatical chunking, out of the box. For POS, SpaCy follows the Universal Dependencies tag set."
   ]
  },
  {
   "cell_type": "code",
   "execution_count": 13,
   "metadata": {},
   "outputs": [
    {
     "name": "stdout",
     "output_type": "stream",
     "text": [
      "Mr.\tPROPN\n",
      "Speaker\tPROPN\n",
      ",\tPUNCT\n",
      "Mr.\tPROPN\n",
      "Vice\tPROPN\n",
      "President\tPROPN\n",
      ",\tPUNCT\n",
      "members\tNOUN\n",
      "of\tADP\n",
      "Congress\tPROPN\n",
      ",\tPUNCT\n",
      "honored\tVERB\n",
      "guests\tNOUN\n",
      ",\tPUNCT\n",
      "my\tADJ\n",
      "fellow\tADJ\n",
      "Americans\tPROPN\n",
      ":\tPUNCT\n",
      " \tSPACE\n",
      "We\tPRON\n"
     ]
    }
   ],
   "source": [
    "# simple part of speech tag\n",
    "for token in doc[:20]:\n",
    "    print(token.text, token.pos_, sep=\"\\t\")"
   ]
  },
  {
   "cell_type": "markdown",
   "metadata": {},
   "source": [
    "Detailed information can also be obtained if available. In these cases, the format will depend on the language and corpus used. For English, [MBSP tags](http://www.clips.ua.ac.be/pages/mbsp-tags) are used, while in Spanish, the [Universal Feature inventory](https://universaldependencies.org/u/feat/index.html) is available."
   ]
  },
  {
   "cell_type": "code",
   "execution_count": 14,
   "metadata": {},
   "outputs": [
    {
     "name": "stdout",
     "output_type": "stream",
     "text": [
      "Mr.\tNNP\n",
      "Speaker\tNNP\n",
      ",\t,\n",
      "Mr.\tNNP\n",
      "Vice\tNNP\n",
      "President\tNNP\n",
      ",\t,\n",
      "members\tNNS\n",
      "of\tIN\n",
      "Congress\tNNP\n",
      ",\t,\n",
      "honored\tVBN\n",
      "guests\tNNS\n",
      ",\t,\n",
      "my\tPRP$\n",
      "fellow\tJJ\n",
      "Americans\tNNPS\n",
      ":\t:\n",
      " \t\n",
      "We\tPRP\n"
     ]
    }
   ],
   "source": [
    "# detailed tag\n",
    "# For what these tags mean, you might check out http://www.clips.ua.ac.be/pages/mbsp-tags\n",
    "for token in doc[:20]:\n",
    "    print(token.text, token.tag_, sep=\"\\t\")"
   ]
  },
  {
   "cell_type": "markdown",
   "metadata": {},
   "source": [
    "A syntactic dependency is a relation between two words in a sentence"
   ]
  },
  {
   "cell_type": "code",
   "execution_count": 15,
   "metadata": {},
   "outputs": [
    {
     "name": "stdout",
     "output_type": "stream",
     "text": [
      "Mr.\tcompound\n",
      "Speaker\tdep\n",
      ",\tpunct\n",
      "Mr.\tcompound\n",
      "Vice\tcompound\n",
      "President\tappos\n",
      ",\tpunct\n",
      "members\tappos\n",
      "of\tprep\n",
      "Congress\tpobj\n",
      ",\tpunct\n",
      "honored\tamod\n",
      "guests\tappos\n",
      ",\tpunct\n",
      "my\tposs\n",
      "fellow\tamod\n",
      "Americans\tappos\n",
      ":\tpunct\n",
      " \t\n",
      "We\tnsubj\n"
     ]
    }
   ],
   "source": [
    "# syntactic dependency\n",
    "for token in doc[:20]:\n",
    "    print(token.text, token.dep_, sep=\"\\t\")"
   ]
  },
  {
   "cell_type": "markdown",
   "metadata": {},
   "source": [
    "However, it's easier to understand with a tree."
   ]
  },
  {
   "cell_type": "code",
   "execution_count": 16,
   "metadata": {},
   "outputs": [],
   "source": [
    "# visualizing the sentence\n",
    "from spacy import displacy"
   ]
  },
  {
   "cell_type": "code",
   "execution_count": 17,
   "metadata": {},
   "outputs": [
    {
     "data": {
      "text/plain": [
       "Mr. Speaker, Mr. Vice President, members of Congress, honored guests, my fellow Americans:  We are fortunate to be alive at this moment in history."
      ]
     },
     "execution_count": 17,
     "metadata": {},
     "output_type": "execute_result"
    }
   ],
   "source": [
    "first_sent = list(doc.sents)[0]\n",
    "first_sent"
   ]
  },
  {
   "cell_type": "code",
   "execution_count": 18,
   "metadata": {
    "scrolled": false
   },
   "outputs": [
    {
     "data": {
      "text/html": [
       "<svg xmlns=\"http://www.w3.org/2000/svg\" xmlns:xlink=\"http://www.w3.org/1999/xlink\" id=\"450-0\" class=\"displacy\" width=\"3800\" height=\"737.0\" style=\"max-width: none; height: 737.0px; color: black; background: white; font-family: Source Sans Pro\">\n",
       "<text class=\"displacy-token\" fill=\"currentColor\" text-anchor=\"middle\" y=\"647.0\">\n",
       "    <tspan class=\"displacy-word\" fill=\"currentColor\" x=\"50\">Mr.</tspan>\n",
       "    <tspan class=\"displacy-tag\" dy=\"2em\" fill=\"currentColor\" x=\"50\">PROPN</tspan>\n",
       "</text>\n",
       "\n",
       "<text class=\"displacy-token\" fill=\"currentColor\" text-anchor=\"middle\" y=\"647.0\">\n",
       "    <tspan class=\"displacy-word\" fill=\"currentColor\" x=\"200\">Speaker,</tspan>\n",
       "    <tspan class=\"displacy-tag\" dy=\"2em\" fill=\"currentColor\" x=\"200\">PROPN</tspan>\n",
       "</text>\n",
       "\n",
       "<text class=\"displacy-token\" fill=\"currentColor\" text-anchor=\"middle\" y=\"647.0\">\n",
       "    <tspan class=\"displacy-word\" fill=\"currentColor\" x=\"350\">Mr.</tspan>\n",
       "    <tspan class=\"displacy-tag\" dy=\"2em\" fill=\"currentColor\" x=\"350\">PROPN</tspan>\n",
       "</text>\n",
       "\n",
       "<text class=\"displacy-token\" fill=\"currentColor\" text-anchor=\"middle\" y=\"647.0\">\n",
       "    <tspan class=\"displacy-word\" fill=\"currentColor\" x=\"500\">Vice</tspan>\n",
       "    <tspan class=\"displacy-tag\" dy=\"2em\" fill=\"currentColor\" x=\"500\">PROPN</tspan>\n",
       "</text>\n",
       "\n",
       "<text class=\"displacy-token\" fill=\"currentColor\" text-anchor=\"middle\" y=\"647.0\">\n",
       "    <tspan class=\"displacy-word\" fill=\"currentColor\" x=\"650\">President,</tspan>\n",
       "    <tspan class=\"displacy-tag\" dy=\"2em\" fill=\"currentColor\" x=\"650\">PROPN</tspan>\n",
       "</text>\n",
       "\n",
       "<text class=\"displacy-token\" fill=\"currentColor\" text-anchor=\"middle\" y=\"647.0\">\n",
       "    <tspan class=\"displacy-word\" fill=\"currentColor\" x=\"800\">members</tspan>\n",
       "    <tspan class=\"displacy-tag\" dy=\"2em\" fill=\"currentColor\" x=\"800\">NOUN</tspan>\n",
       "</text>\n",
       "\n",
       "<text class=\"displacy-token\" fill=\"currentColor\" text-anchor=\"middle\" y=\"647.0\">\n",
       "    <tspan class=\"displacy-word\" fill=\"currentColor\" x=\"950\">of</tspan>\n",
       "    <tspan class=\"displacy-tag\" dy=\"2em\" fill=\"currentColor\" x=\"950\">ADP</tspan>\n",
       "</text>\n",
       "\n",
       "<text class=\"displacy-token\" fill=\"currentColor\" text-anchor=\"middle\" y=\"647.0\">\n",
       "    <tspan class=\"displacy-word\" fill=\"currentColor\" x=\"1100\">Congress,</tspan>\n",
       "    <tspan class=\"displacy-tag\" dy=\"2em\" fill=\"currentColor\" x=\"1100\">PROPN</tspan>\n",
       "</text>\n",
       "\n",
       "<text class=\"displacy-token\" fill=\"currentColor\" text-anchor=\"middle\" y=\"647.0\">\n",
       "    <tspan class=\"displacy-word\" fill=\"currentColor\" x=\"1250\">honored</tspan>\n",
       "    <tspan class=\"displacy-tag\" dy=\"2em\" fill=\"currentColor\" x=\"1250\">VERB</tspan>\n",
       "</text>\n",
       "\n",
       "<text class=\"displacy-token\" fill=\"currentColor\" text-anchor=\"middle\" y=\"647.0\">\n",
       "    <tspan class=\"displacy-word\" fill=\"currentColor\" x=\"1400\">guests,</tspan>\n",
       "    <tspan class=\"displacy-tag\" dy=\"2em\" fill=\"currentColor\" x=\"1400\">NOUN</tspan>\n",
       "</text>\n",
       "\n",
       "<text class=\"displacy-token\" fill=\"currentColor\" text-anchor=\"middle\" y=\"647.0\">\n",
       "    <tspan class=\"displacy-word\" fill=\"currentColor\" x=\"1550\">my</tspan>\n",
       "    <tspan class=\"displacy-tag\" dy=\"2em\" fill=\"currentColor\" x=\"1550\">ADJ</tspan>\n",
       "</text>\n",
       "\n",
       "<text class=\"displacy-token\" fill=\"currentColor\" text-anchor=\"middle\" y=\"647.0\">\n",
       "    <tspan class=\"displacy-word\" fill=\"currentColor\" x=\"1700\">fellow</tspan>\n",
       "    <tspan class=\"displacy-tag\" dy=\"2em\" fill=\"currentColor\" x=\"1700\">ADJ</tspan>\n",
       "</text>\n",
       "\n",
       "<text class=\"displacy-token\" fill=\"currentColor\" text-anchor=\"middle\" y=\"647.0\">\n",
       "    <tspan class=\"displacy-word\" fill=\"currentColor\" x=\"1850\">Americans:</tspan>\n",
       "    <tspan class=\"displacy-tag\" dy=\"2em\" fill=\"currentColor\" x=\"1850\">PROPN</tspan>\n",
       "</text>\n",
       "\n",
       "<text class=\"displacy-token\" fill=\"currentColor\" text-anchor=\"middle\" y=\"647.0\">\n",
       "    <tspan class=\"displacy-word\" fill=\"currentColor\" x=\"2000\"> </tspan>\n",
       "    <tspan class=\"displacy-tag\" dy=\"2em\" fill=\"currentColor\" x=\"2000\"></tspan>\n",
       "</text>\n",
       "\n",
       "<text class=\"displacy-token\" fill=\"currentColor\" text-anchor=\"middle\" y=\"647.0\">\n",
       "    <tspan class=\"displacy-word\" fill=\"currentColor\" x=\"2150\">We</tspan>\n",
       "    <tspan class=\"displacy-tag\" dy=\"2em\" fill=\"currentColor\" x=\"2150\">PRON</tspan>\n",
       "</text>\n",
       "\n",
       "<text class=\"displacy-token\" fill=\"currentColor\" text-anchor=\"middle\" y=\"647.0\">\n",
       "    <tspan class=\"displacy-word\" fill=\"currentColor\" x=\"2300\">are</tspan>\n",
       "    <tspan class=\"displacy-tag\" dy=\"2em\" fill=\"currentColor\" x=\"2300\">VERB</tspan>\n",
       "</text>\n",
       "\n",
       "<text class=\"displacy-token\" fill=\"currentColor\" text-anchor=\"middle\" y=\"647.0\">\n",
       "    <tspan class=\"displacy-word\" fill=\"currentColor\" x=\"2450\">fortunate</tspan>\n",
       "    <tspan class=\"displacy-tag\" dy=\"2em\" fill=\"currentColor\" x=\"2450\">ADJ</tspan>\n",
       "</text>\n",
       "\n",
       "<text class=\"displacy-token\" fill=\"currentColor\" text-anchor=\"middle\" y=\"647.0\">\n",
       "    <tspan class=\"displacy-word\" fill=\"currentColor\" x=\"2600\">to</tspan>\n",
       "    <tspan class=\"displacy-tag\" dy=\"2em\" fill=\"currentColor\" x=\"2600\">PART</tspan>\n",
       "</text>\n",
       "\n",
       "<text class=\"displacy-token\" fill=\"currentColor\" text-anchor=\"middle\" y=\"647.0\">\n",
       "    <tspan class=\"displacy-word\" fill=\"currentColor\" x=\"2750\">be</tspan>\n",
       "    <tspan class=\"displacy-tag\" dy=\"2em\" fill=\"currentColor\" x=\"2750\">VERB</tspan>\n",
       "</text>\n",
       "\n",
       "<text class=\"displacy-token\" fill=\"currentColor\" text-anchor=\"middle\" y=\"647.0\">\n",
       "    <tspan class=\"displacy-word\" fill=\"currentColor\" x=\"2900\">alive</tspan>\n",
       "    <tspan class=\"displacy-tag\" dy=\"2em\" fill=\"currentColor\" x=\"2900\">ADJ</tspan>\n",
       "</text>\n",
       "\n",
       "<text class=\"displacy-token\" fill=\"currentColor\" text-anchor=\"middle\" y=\"647.0\">\n",
       "    <tspan class=\"displacy-word\" fill=\"currentColor\" x=\"3050\">at</tspan>\n",
       "    <tspan class=\"displacy-tag\" dy=\"2em\" fill=\"currentColor\" x=\"3050\">ADP</tspan>\n",
       "</text>\n",
       "\n",
       "<text class=\"displacy-token\" fill=\"currentColor\" text-anchor=\"middle\" y=\"647.0\">\n",
       "    <tspan class=\"displacy-word\" fill=\"currentColor\" x=\"3200\">this</tspan>\n",
       "    <tspan class=\"displacy-tag\" dy=\"2em\" fill=\"currentColor\" x=\"3200\">DET</tspan>\n",
       "</text>\n",
       "\n",
       "<text class=\"displacy-token\" fill=\"currentColor\" text-anchor=\"middle\" y=\"647.0\">\n",
       "    <tspan class=\"displacy-word\" fill=\"currentColor\" x=\"3350\">moment</tspan>\n",
       "    <tspan class=\"displacy-tag\" dy=\"2em\" fill=\"currentColor\" x=\"3350\">NOUN</tspan>\n",
       "</text>\n",
       "\n",
       "<text class=\"displacy-token\" fill=\"currentColor\" text-anchor=\"middle\" y=\"647.0\">\n",
       "    <tspan class=\"displacy-word\" fill=\"currentColor\" x=\"3500\">in</tspan>\n",
       "    <tspan class=\"displacy-tag\" dy=\"2em\" fill=\"currentColor\" x=\"3500\">ADP</tspan>\n",
       "</text>\n",
       "\n",
       "<text class=\"displacy-token\" fill=\"currentColor\" text-anchor=\"middle\" y=\"647.0\">\n",
       "    <tspan class=\"displacy-word\" fill=\"currentColor\" x=\"3650\">history.</tspan>\n",
       "    <tspan class=\"displacy-tag\" dy=\"2em\" fill=\"currentColor\" x=\"3650\">NOUN</tspan>\n",
       "</text>\n",
       "\n",
       "<g class=\"displacy-arrow\">\n",
       "    <path class=\"displacy-arc\" id=\"arrow-450-0-0\" stroke-width=\"2px\" d=\"M62,602.0 62,577.0 179.0,577.0 179.0,602.0\" fill=\"none\" stroke=\"currentColor\"/>\n",
       "    <text dy=\"1.25em\" style=\"font-size: 0.8em; letter-spacing: 1px\">\n",
       "        <textPath xlink:href=\"#arrow-450-0-0\" class=\"displacy-label\" startOffset=\"50%\" fill=\"currentColor\" text-anchor=\"middle\">compound</textPath>\n",
       "    </text>\n",
       "    <path class=\"displacy-arrowhead\" d=\"M62,604.0 L58,596.0 66,596.0\" fill=\"currentColor\"/>\n",
       "</g>\n",
       "\n",
       "<g class=\"displacy-arrow\">\n",
       "    <path class=\"displacy-arc\" id=\"arrow-450-0-1\" stroke-width=\"2px\" d=\"M212,602.0 212,402.0 2300.0,402.0 2300.0,602.0\" fill=\"none\" stroke=\"currentColor\"/>\n",
       "    <text dy=\"1.25em\" style=\"font-size: 0.8em; letter-spacing: 1px\">\n",
       "        <textPath xlink:href=\"#arrow-450-0-1\" class=\"displacy-label\" startOffset=\"50%\" fill=\"currentColor\" text-anchor=\"middle\">dep</textPath>\n",
       "    </text>\n",
       "    <path class=\"displacy-arrowhead\" d=\"M212,604.0 L208,596.0 216,596.0\" fill=\"currentColor\"/>\n",
       "</g>\n",
       "\n",
       "<g class=\"displacy-arrow\">\n",
       "    <path class=\"displacy-arc\" id=\"arrow-450-0-2\" stroke-width=\"2px\" d=\"M362,602.0 362,552.0 632.0,552.0 632.0,602.0\" fill=\"none\" stroke=\"currentColor\"/>\n",
       "    <text dy=\"1.25em\" style=\"font-size: 0.8em; letter-spacing: 1px\">\n",
       "        <textPath xlink:href=\"#arrow-450-0-2\" class=\"displacy-label\" startOffset=\"50%\" fill=\"currentColor\" text-anchor=\"middle\">compound</textPath>\n",
       "    </text>\n",
       "    <path class=\"displacy-arrowhead\" d=\"M362,604.0 L358,596.0 366,596.0\" fill=\"currentColor\"/>\n",
       "</g>\n",
       "\n",
       "<g class=\"displacy-arrow\">\n",
       "    <path class=\"displacy-arc\" id=\"arrow-450-0-3\" stroke-width=\"2px\" d=\"M512,602.0 512,577.0 629.0,577.0 629.0,602.0\" fill=\"none\" stroke=\"currentColor\"/>\n",
       "    <text dy=\"1.25em\" style=\"font-size: 0.8em; letter-spacing: 1px\">\n",
       "        <textPath xlink:href=\"#arrow-450-0-3\" class=\"displacy-label\" startOffset=\"50%\" fill=\"currentColor\" text-anchor=\"middle\">compound</textPath>\n",
       "    </text>\n",
       "    <path class=\"displacy-arrowhead\" d=\"M512,604.0 L508,596.0 516,596.0\" fill=\"currentColor\"/>\n",
       "</g>\n",
       "\n",
       "<g class=\"displacy-arrow\">\n",
       "    <path class=\"displacy-arc\" id=\"arrow-450-0-4\" stroke-width=\"2px\" d=\"M212,602.0 212,527.0 635.0,527.0 635.0,602.0\" fill=\"none\" stroke=\"currentColor\"/>\n",
       "    <text dy=\"1.25em\" style=\"font-size: 0.8em; letter-spacing: 1px\">\n",
       "        <textPath xlink:href=\"#arrow-450-0-4\" class=\"displacy-label\" startOffset=\"50%\" fill=\"currentColor\" text-anchor=\"middle\">appos</textPath>\n",
       "    </text>\n",
       "    <path class=\"displacy-arrowhead\" d=\"M635.0,604.0 L639.0,596.0 631.0,596.0\" fill=\"currentColor\"/>\n",
       "</g>\n",
       "\n",
       "<g class=\"displacy-arrow\">\n",
       "    <path class=\"displacy-arc\" id=\"arrow-450-0-5\" stroke-width=\"2px\" d=\"M212,602.0 212,502.0 788.0,502.0 788.0,602.0\" fill=\"none\" stroke=\"currentColor\"/>\n",
       "    <text dy=\"1.25em\" style=\"font-size: 0.8em; letter-spacing: 1px\">\n",
       "        <textPath xlink:href=\"#arrow-450-0-5\" class=\"displacy-label\" startOffset=\"50%\" fill=\"currentColor\" text-anchor=\"middle\">appos</textPath>\n",
       "    </text>\n",
       "    <path class=\"displacy-arrowhead\" d=\"M788.0,604.0 L792.0,596.0 784.0,596.0\" fill=\"currentColor\"/>\n",
       "</g>\n",
       "\n",
       "<g class=\"displacy-arrow\">\n",
       "    <path class=\"displacy-arc\" id=\"arrow-450-0-6\" stroke-width=\"2px\" d=\"M812,602.0 812,577.0 929.0,577.0 929.0,602.0\" fill=\"none\" stroke=\"currentColor\"/>\n",
       "    <text dy=\"1.25em\" style=\"font-size: 0.8em; letter-spacing: 1px\">\n",
       "        <textPath xlink:href=\"#arrow-450-0-6\" class=\"displacy-label\" startOffset=\"50%\" fill=\"currentColor\" text-anchor=\"middle\">prep</textPath>\n",
       "    </text>\n",
       "    <path class=\"displacy-arrowhead\" d=\"M929.0,604.0 L933.0,596.0 925.0,596.0\" fill=\"currentColor\"/>\n",
       "</g>\n",
       "\n",
       "<g class=\"displacy-arrow\">\n",
       "    <path class=\"displacy-arc\" id=\"arrow-450-0-7\" stroke-width=\"2px\" d=\"M962,602.0 962,577.0 1079.0,577.0 1079.0,602.0\" fill=\"none\" stroke=\"currentColor\"/>\n",
       "    <text dy=\"1.25em\" style=\"font-size: 0.8em; letter-spacing: 1px\">\n",
       "        <textPath xlink:href=\"#arrow-450-0-7\" class=\"displacy-label\" startOffset=\"50%\" fill=\"currentColor\" text-anchor=\"middle\">pobj</textPath>\n",
       "    </text>\n",
       "    <path class=\"displacy-arrowhead\" d=\"M1079.0,604.0 L1083.0,596.0 1075.0,596.0\" fill=\"currentColor\"/>\n",
       "</g>\n",
       "\n",
       "<g class=\"displacy-arrow\">\n",
       "    <path class=\"displacy-arc\" id=\"arrow-450-0-8\" stroke-width=\"2px\" d=\"M1262,602.0 1262,577.0 1379.0,577.0 1379.0,602.0\" fill=\"none\" stroke=\"currentColor\"/>\n",
       "    <text dy=\"1.25em\" style=\"font-size: 0.8em; letter-spacing: 1px\">\n",
       "        <textPath xlink:href=\"#arrow-450-0-8\" class=\"displacy-label\" startOffset=\"50%\" fill=\"currentColor\" text-anchor=\"middle\">amod</textPath>\n",
       "    </text>\n",
       "    <path class=\"displacy-arrowhead\" d=\"M1262,604.0 L1258,596.0 1266,596.0\" fill=\"currentColor\"/>\n",
       "</g>\n",
       "\n",
       "<g class=\"displacy-arrow\">\n",
       "    <path class=\"displacy-arc\" id=\"arrow-450-0-9\" stroke-width=\"2px\" d=\"M212,602.0 212,452.0 1394.0,452.0 1394.0,602.0\" fill=\"none\" stroke=\"currentColor\"/>\n",
       "    <text dy=\"1.25em\" style=\"font-size: 0.8em; letter-spacing: 1px\">\n",
       "        <textPath xlink:href=\"#arrow-450-0-9\" class=\"displacy-label\" startOffset=\"50%\" fill=\"currentColor\" text-anchor=\"middle\">appos</textPath>\n",
       "    </text>\n",
       "    <path class=\"displacy-arrowhead\" d=\"M1394.0,604.0 L1398.0,596.0 1390.0,596.0\" fill=\"currentColor\"/>\n",
       "</g>\n",
       "\n",
       "<g class=\"displacy-arrow\">\n",
       "    <path class=\"displacy-arc\" id=\"arrow-450-0-10\" stroke-width=\"2px\" d=\"M1562,602.0 1562,552.0 1832.0,552.0 1832.0,602.0\" fill=\"none\" stroke=\"currentColor\"/>\n",
       "    <text dy=\"1.25em\" style=\"font-size: 0.8em; letter-spacing: 1px\">\n",
       "        <textPath xlink:href=\"#arrow-450-0-10\" class=\"displacy-label\" startOffset=\"50%\" fill=\"currentColor\" text-anchor=\"middle\">poss</textPath>\n",
       "    </text>\n",
       "    <path class=\"displacy-arrowhead\" d=\"M1562,604.0 L1558,596.0 1566,596.0\" fill=\"currentColor\"/>\n",
       "</g>\n",
       "\n",
       "<g class=\"displacy-arrow\">\n",
       "    <path class=\"displacy-arc\" id=\"arrow-450-0-11\" stroke-width=\"2px\" d=\"M1712,602.0 1712,577.0 1829.0,577.0 1829.0,602.0\" fill=\"none\" stroke=\"currentColor\"/>\n",
       "    <text dy=\"1.25em\" style=\"font-size: 0.8em; letter-spacing: 1px\">\n",
       "        <textPath xlink:href=\"#arrow-450-0-11\" class=\"displacy-label\" startOffset=\"50%\" fill=\"currentColor\" text-anchor=\"middle\">amod</textPath>\n",
       "    </text>\n",
       "    <path class=\"displacy-arrowhead\" d=\"M1712,604.0 L1708,596.0 1716,596.0\" fill=\"currentColor\"/>\n",
       "</g>\n",
       "\n",
       "<g class=\"displacy-arrow\">\n",
       "    <path class=\"displacy-arc\" id=\"arrow-450-0-12\" stroke-width=\"2px\" d=\"M212,602.0 212,427.0 1847.0,427.0 1847.0,602.0\" fill=\"none\" stroke=\"currentColor\"/>\n",
       "    <text dy=\"1.25em\" style=\"font-size: 0.8em; letter-spacing: 1px\">\n",
       "        <textPath xlink:href=\"#arrow-450-0-12\" class=\"displacy-label\" startOffset=\"50%\" fill=\"currentColor\" text-anchor=\"middle\">appos</textPath>\n",
       "    </text>\n",
       "    <path class=\"displacy-arrowhead\" d=\"M1847.0,604.0 L1851.0,596.0 1843.0,596.0\" fill=\"currentColor\"/>\n",
       "</g>\n",
       "\n",
       "<g class=\"displacy-arrow\">\n",
       "    <path class=\"displacy-arc\" id=\"arrow-450-0-13\" stroke-width=\"2px\" d=\"M1862,602.0 1862,577.0 1979.0,577.0 1979.0,602.0\" fill=\"none\" stroke=\"currentColor\"/>\n",
       "    <text dy=\"1.25em\" style=\"font-size: 0.8em; letter-spacing: 1px\">\n",
       "        <textPath xlink:href=\"#arrow-450-0-13\" class=\"displacy-label\" startOffset=\"50%\" fill=\"currentColor\" text-anchor=\"middle\"></textPath>\n",
       "    </text>\n",
       "    <path class=\"displacy-arrowhead\" d=\"M1979.0,604.0 L1983.0,596.0 1975.0,596.0\" fill=\"currentColor\"/>\n",
       "</g>\n",
       "\n",
       "<g class=\"displacy-arrow\">\n",
       "    <path class=\"displacy-arc\" id=\"arrow-450-0-14\" stroke-width=\"2px\" d=\"M2162,602.0 2162,577.0 2279.0,577.0 2279.0,602.0\" fill=\"none\" stroke=\"currentColor\"/>\n",
       "    <text dy=\"1.25em\" style=\"font-size: 0.8em; letter-spacing: 1px\">\n",
       "        <textPath xlink:href=\"#arrow-450-0-14\" class=\"displacy-label\" startOffset=\"50%\" fill=\"currentColor\" text-anchor=\"middle\">nsubj</textPath>\n",
       "    </text>\n",
       "    <path class=\"displacy-arrowhead\" d=\"M2162,604.0 L2158,596.0 2166,596.0\" fill=\"currentColor\"/>\n",
       "</g>\n",
       "\n",
       "<g class=\"displacy-arrow\">\n",
       "    <path class=\"displacy-arc\" id=\"arrow-450-0-15\" stroke-width=\"2px\" d=\"M2312,602.0 2312,577.0 2429.0,577.0 2429.0,602.0\" fill=\"none\" stroke=\"currentColor\"/>\n",
       "    <text dy=\"1.25em\" style=\"font-size: 0.8em; letter-spacing: 1px\">\n",
       "        <textPath xlink:href=\"#arrow-450-0-15\" class=\"displacy-label\" startOffset=\"50%\" fill=\"currentColor\" text-anchor=\"middle\">acomp</textPath>\n",
       "    </text>\n",
       "    <path class=\"displacy-arrowhead\" d=\"M2429.0,604.0 L2433.0,596.0 2425.0,596.0\" fill=\"currentColor\"/>\n",
       "</g>\n",
       "\n",
       "<g class=\"displacy-arrow\">\n",
       "    <path class=\"displacy-arc\" id=\"arrow-450-0-16\" stroke-width=\"2px\" d=\"M2612,602.0 2612,577.0 2729.0,577.0 2729.0,602.0\" fill=\"none\" stroke=\"currentColor\"/>\n",
       "    <text dy=\"1.25em\" style=\"font-size: 0.8em; letter-spacing: 1px\">\n",
       "        <textPath xlink:href=\"#arrow-450-0-16\" class=\"displacy-label\" startOffset=\"50%\" fill=\"currentColor\" text-anchor=\"middle\">aux</textPath>\n",
       "    </text>\n",
       "    <path class=\"displacy-arrowhead\" d=\"M2612,604.0 L2608,596.0 2616,596.0\" fill=\"currentColor\"/>\n",
       "</g>\n",
       "\n",
       "<g class=\"displacy-arrow\">\n",
       "    <path class=\"displacy-arc\" id=\"arrow-450-0-17\" stroke-width=\"2px\" d=\"M2462,602.0 2462,552.0 2732.0,552.0 2732.0,602.0\" fill=\"none\" stroke=\"currentColor\"/>\n",
       "    <text dy=\"1.25em\" style=\"font-size: 0.8em; letter-spacing: 1px\">\n",
       "        <textPath xlink:href=\"#arrow-450-0-17\" class=\"displacy-label\" startOffset=\"50%\" fill=\"currentColor\" text-anchor=\"middle\">xcomp</textPath>\n",
       "    </text>\n",
       "    <path class=\"displacy-arrowhead\" d=\"M2732.0,604.0 L2736.0,596.0 2728.0,596.0\" fill=\"currentColor\"/>\n",
       "</g>\n",
       "\n",
       "<g class=\"displacy-arrow\">\n",
       "    <path class=\"displacy-arc\" id=\"arrow-450-0-18\" stroke-width=\"2px\" d=\"M2762,602.0 2762,577.0 2879.0,577.0 2879.0,602.0\" fill=\"none\" stroke=\"currentColor\"/>\n",
       "    <text dy=\"1.25em\" style=\"font-size: 0.8em; letter-spacing: 1px\">\n",
       "        <textPath xlink:href=\"#arrow-450-0-18\" class=\"displacy-label\" startOffset=\"50%\" fill=\"currentColor\" text-anchor=\"middle\">acomp</textPath>\n",
       "    </text>\n",
       "    <path class=\"displacy-arrowhead\" d=\"M2879.0,604.0 L2883.0,596.0 2875.0,596.0\" fill=\"currentColor\"/>\n",
       "</g>\n",
       "\n",
       "<g class=\"displacy-arrow\">\n",
       "    <path class=\"displacy-arc\" id=\"arrow-450-0-19\" stroke-width=\"2px\" d=\"M2762,602.0 2762,552.0 3032.0,552.0 3032.0,602.0\" fill=\"none\" stroke=\"currentColor\"/>\n",
       "    <text dy=\"1.25em\" style=\"font-size: 0.8em; letter-spacing: 1px\">\n",
       "        <textPath xlink:href=\"#arrow-450-0-19\" class=\"displacy-label\" startOffset=\"50%\" fill=\"currentColor\" text-anchor=\"middle\">prep</textPath>\n",
       "    </text>\n",
       "    <path class=\"displacy-arrowhead\" d=\"M3032.0,604.0 L3036.0,596.0 3028.0,596.0\" fill=\"currentColor\"/>\n",
       "</g>\n",
       "\n",
       "<g class=\"displacy-arrow\">\n",
       "    <path class=\"displacy-arc\" id=\"arrow-450-0-20\" stroke-width=\"2px\" d=\"M3212,602.0 3212,577.0 3329.0,577.0 3329.0,602.0\" fill=\"none\" stroke=\"currentColor\"/>\n",
       "    <text dy=\"1.25em\" style=\"font-size: 0.8em; letter-spacing: 1px\">\n",
       "        <textPath xlink:href=\"#arrow-450-0-20\" class=\"displacy-label\" startOffset=\"50%\" fill=\"currentColor\" text-anchor=\"middle\">det</textPath>\n",
       "    </text>\n",
       "    <path class=\"displacy-arrowhead\" d=\"M3212,604.0 L3208,596.0 3216,596.0\" fill=\"currentColor\"/>\n",
       "</g>\n",
       "\n",
       "<g class=\"displacy-arrow\">\n",
       "    <path class=\"displacy-arc\" id=\"arrow-450-0-21\" stroke-width=\"2px\" d=\"M3062,602.0 3062,552.0 3332.0,552.0 3332.0,602.0\" fill=\"none\" stroke=\"currentColor\"/>\n",
       "    <text dy=\"1.25em\" style=\"font-size: 0.8em; letter-spacing: 1px\">\n",
       "        <textPath xlink:href=\"#arrow-450-0-21\" class=\"displacy-label\" startOffset=\"50%\" fill=\"currentColor\" text-anchor=\"middle\">pobj</textPath>\n",
       "    </text>\n",
       "    <path class=\"displacy-arrowhead\" d=\"M3332.0,604.0 L3336.0,596.0 3328.0,596.0\" fill=\"currentColor\"/>\n",
       "</g>\n",
       "\n",
       "<g class=\"displacy-arrow\">\n",
       "    <path class=\"displacy-arc\" id=\"arrow-450-0-22\" stroke-width=\"2px\" d=\"M2762,602.0 2762,477.0 3491.0,477.0 3491.0,602.0\" fill=\"none\" stroke=\"currentColor\"/>\n",
       "    <text dy=\"1.25em\" style=\"font-size: 0.8em; letter-spacing: 1px\">\n",
       "        <textPath xlink:href=\"#arrow-450-0-22\" class=\"displacy-label\" startOffset=\"50%\" fill=\"currentColor\" text-anchor=\"middle\">prep</textPath>\n",
       "    </text>\n",
       "    <path class=\"displacy-arrowhead\" d=\"M3491.0,604.0 L3495.0,596.0 3487.0,596.0\" fill=\"currentColor\"/>\n",
       "</g>\n",
       "\n",
       "<g class=\"displacy-arrow\">\n",
       "    <path class=\"displacy-arc\" id=\"arrow-450-0-23\" stroke-width=\"2px\" d=\"M3512,602.0 3512,577.0 3629.0,577.0 3629.0,602.0\" fill=\"none\" stroke=\"currentColor\"/>\n",
       "    <text dy=\"1.25em\" style=\"font-size: 0.8em; letter-spacing: 1px\">\n",
       "        <textPath xlink:href=\"#arrow-450-0-23\" class=\"displacy-label\" startOffset=\"50%\" fill=\"currentColor\" text-anchor=\"middle\">pobj</textPath>\n",
       "    </text>\n",
       "    <path class=\"displacy-arrowhead\" d=\"M3629.0,604.0 L3633.0,596.0 3625.0,596.0\" fill=\"currentColor\"/>\n",
       "</g>\n",
       "</svg>"
      ],
      "text/plain": [
       "<IPython.core.display.HTML object>"
      ]
     },
     "metadata": {},
     "output_type": "display_data"
    }
   ],
   "source": [
    "single_doc = nlp(str(first_sent))\n",
    "options = {\"compact\": True, 'bg': 'white',\n",
    "           'color': 'black', 'font': 'Source Sans Pro'}\n",
    "displacy.render(single_doc, style=\"dep\", jupyter=True, options=options)"
   ]
  },
  {
   "cell_type": "markdown",
   "metadata": {},
   "source": [
    "<div style=\"font-size: 1em; margin: 1em 0 1em 0; border: 1px solid #86989B; background-color: #f7f7f7; padding: 0;\">\n",
    "<p style=\"margin: 0; padding: 0.1em 0 0.1em 0.5em; color: white; border-bottom: 1px solid #86989B; font-weight: bold; background-color: #AFC1C4;\">\n",
    "Activity\n",
    "</p>\n",
    "<p style=\"margin: 0.5em 1em 0.5em 1em; padding: 0;\">\n",
    "Write a function `count_chars(text)` that receives `text` and returns the total number of characters ignoring spaces and punctuation marks. For example, `count_chars(\"Well, I am not 90 years old.\")` should return `20`.\n",
    "<br/>\n",
    "* **Hint**: You could count the characters in the words.*\n",
    "</p>\n",
    "</div>"
   ]
  },
  {
   "cell_type": "code",
   "execution_count": 19,
   "metadata": {},
   "outputs": [
    {
     "data": {
      "text/plain": [
       "20"
      ]
     },
     "execution_count": 19,
     "metadata": {},
     "output_type": "execute_result"
    }
   ],
   "source": [
    "def count_chars(text):\n",
    "    doc = nlp(text)\n",
    "    words = [token.text for token in doc if token.pos_ is not 'PUNCT']\n",
    "    return sum(len(w) for w in words)\n",
    "\n",
    "count_chars(\"Well, I am not 30 years old.\")"
   ]
  },
  {
   "cell_type": "markdown",
   "metadata": {},
   "source": [
    "## Named Entity Recognition\n",
    "\n",
    "Named Entity Recognition (NER) is a popular technique used in information extraction to identify and segment the named entities and classify or categorize them under various predefined classes.\n",
    "\n",
    "For English, SpaCy uses the [OntoNotes 5](https://catalog.ldc.upenn.edu/LDC2013T19) corpus, which is sufficiently rich and specific regarding the [information it can caputre](https://spacy.io/api/annotation#named-entities). "
   ]
  },
  {
   "cell_type": "code",
   "execution_count": 20,
   "metadata": {},
   "outputs": [
    {
     "name": "stdout",
     "output_type": "stream",
     "text": [
      "Speaker\tPERSON\n",
      "Congress\tORG\n",
      "Americans\tNORP\n",
      " \tNORP\n",
      "this moment\tTIME\n",
      "Founders’\tORG\n",
      "the new century\tDATE\n",
      "over 20 million\tCARDINAL\n",
      "more than 30 years\tDATE\n",
      "30 years\tDATE\n",
      "20 years\tDATE\n",
      "African-American\tNORP\n",
      "Hispanic\tNORP\n",
      "first\tORDINAL\n",
      "42 years\tDATE\n",
      "next month\tDATE\n",
      "America\tGPE\n",
      "American\tNORP\n",
      "20 percent\tPERCENT\n",
      "25 years\tDATE\n"
     ]
    }
   ],
   "source": [
    "for ent in doc.ents[:20]:\n",
    "    print(ent.text, ent.label_, sep=\"\\t\")"
   ]
  },
  {
   "cell_type": "markdown",
   "metadata": {},
   "source": [
    "If you're working on tokens, you can still access entity type. Notice, though that the phrase entities are broken up here because we're iterating over tokens"
   ]
  },
  {
   "cell_type": "code",
   "execution_count": 21,
   "metadata": {},
   "outputs": [
    {
     "name": "stdout",
     "output_type": "stream",
     "text": [
      "Speaker\tPERSON\t(People, including fictional)\n",
      "Congress\tORG\t(Companies, agencies, institutions, etc.)\n",
      "Americans\tNORP\t(Nationalities or religious or political groups)\n",
      " \tNORP\t(Nationalities or religious or political groups)\n",
      "this\tTIME\t(Times smaller than a day)\n",
      "moment\tTIME\t(Times smaller than a day)\n",
      "Founders’\tORG\t(Companies, agencies, institutions, etc.)\n",
      "the\tDATE\t(Absolute or relative dates or periods)\n",
      "new\tDATE\t(Absolute or relative dates or periods)\n",
      "century\tDATE\t(Absolute or relative dates or periods)\n",
      "over\tCARDINAL\t(Numerals that do not fall under another type)\n",
      "20\tCARDINAL\t(Numerals that do not fall under another type)\n",
      "million\tCARDINAL\t(Numerals that do not fall under another type)\n",
      "more\tDATE\t(Absolute or relative dates or periods)\n",
      "than\tDATE\t(Absolute or relative dates or periods)\n",
      "30\tDATE\t(Absolute or relative dates or periods)\n",
      "years\tDATE\t(Absolute or relative dates or periods)\n",
      "30\tDATE\t(Absolute or relative dates or periods)\n",
      "years\tDATE\t(Absolute or relative dates or periods)\n",
      "20\tDATE\t(Absolute or relative dates or periods)\n",
      "years\tDATE\t(Absolute or relative dates or periods)\n",
      "African\tNORP\t(Nationalities or religious or political groups)\n",
      "-\tNORP\t(Nationalities or religious or political groups)\n",
      "American\tNORP\t(Nationalities or religious or political groups)\n",
      "Hispanic\tNORP\t(Nationalities or religious or political groups)\n",
      "first\tORDINAL\t(\"first\", \"second\", etc.)\n",
      "42\tDATE\t(Absolute or relative dates or periods)\n",
      "years\tDATE\t(Absolute or relative dates or periods)\n"
     ]
    }
   ],
   "source": [
    "for token in doc[:150]:\n",
    "    if token.ent_type_ is not '':\n",
    "        print(token.text, token.ent_type_, f\"({spacy.explain(token.ent_type_)})\", sep=\"\\t\")"
   ]
  },
  {
   "cell_type": "markdown",
   "metadata": {},
   "source": [
    "SpaCy comes with built in entity visualization"
   ]
  },
  {
   "cell_type": "code",
   "execution_count": 22,
   "metadata": {},
   "outputs": [
    {
     "data": {
      "text/html": [
       "<div class=\"entities\" style=\"line-height: 2.5\">Mr. \n",
       "<mark class=\"entity\" style=\"background: #aa9cfc; padding: 0.45em 0.6em; margin: 0 0.25em; line-height: 1; border-radius: 0.35em; box-decoration-break: clone; -webkit-box-decoration-break: clone\">\n",
       "    Speaker\n",
       "    <span style=\"font-size: 0.8em; font-weight: bold; line-height: 1; border-radius: 0.35em; text-transform: uppercase; vertical-align: middle; margin-left: 0.5rem\">PERSON</span>\n",
       "</mark>\n",
       ", Mr. Vice President, members of \n",
       "<mark class=\"entity\" style=\"background: #7aecec; padding: 0.45em 0.6em; margin: 0 0.25em; line-height: 1; border-radius: 0.35em; box-decoration-break: clone; -webkit-box-decoration-break: clone\">\n",
       "    Congress\n",
       "    <span style=\"font-size: 0.8em; font-weight: bold; line-height: 1; border-radius: 0.35em; text-transform: uppercase; vertical-align: middle; margin-left: 0.5rem\">ORG</span>\n",
       "</mark>\n",
       ", honored guests, my fellow \n",
       "<mark class=\"entity\" style=\"background: #c887fb; padding: 0.45em 0.6em; margin: 0 0.25em; line-height: 1; border-radius: 0.35em; box-decoration-break: clone; -webkit-box-decoration-break: clone\">\n",
       "    Americans\n",
       "    <span style=\"font-size: 0.8em; font-weight: bold; line-height: 1; border-radius: 0.35em; text-transform: uppercase; vertical-align: middle; margin-left: 0.5rem\">NORP</span>\n",
       "</mark>\n",
       ": \n",
       "<mark class=\"entity\" style=\"background: #c887fb; padding: 0.45em 0.6em; margin: 0 0.25em; line-height: 1; border-radius: 0.35em; box-decoration-break: clone; -webkit-box-decoration-break: clone\">\n",
       "     \n",
       "    <span style=\"font-size: 0.8em; font-weight: bold; line-height: 1; border-radius: 0.35em; text-transform: uppercase; vertical-align: middle; margin-left: 0.5rem\">NORP</span>\n",
       "</mark>\n",
       "We are fortunate to be alive at \n",
       "<mark class=\"entity\" style=\"background: #bfe1d9; padding: 0.45em 0.6em; margin: 0 0.25em; line-height: 1; border-radius: 0.35em; box-decoration-break: clone; -webkit-box-decoration-break: clone\">\n",
       "    this moment\n",
       "    <span style=\"font-size: 0.8em; font-weight: bold; line-height: 1; border-radius: 0.35em; text-transform: uppercase; vertical-align: middle; margin-left: 0.5rem\">TIME</span>\n",
       "</mark>\n",
       " in history.</div>"
      ],
      "text/plain": [
       "<IPython.core.display.HTML object>"
      ]
     },
     "metadata": {},
     "output_type": "display_data"
    }
   ],
   "source": [
    "displacy.render(single_doc, style=\"ent\", jupyter=True)"
   ]
  },
  {
   "cell_type": "code",
   "execution_count": 23,
   "metadata": {},
   "outputs": [
    {
     "data": {
      "text/html": [
       "<div class=\"entities\" style=\"line-height: 2.5\">Mr. \n",
       "<mark class=\"entity\" style=\"background: #aa9cfc; padding: 0.45em 0.6em; margin: 0 0.25em; line-height: 1; border-radius: 0.35em; box-decoration-break: clone; -webkit-box-decoration-break: clone\">\n",
       "    Speaker\n",
       "    <span style=\"font-size: 0.8em; font-weight: bold; line-height: 1; border-radius: 0.35em; text-transform: uppercase; vertical-align: middle; margin-left: 0.5rem\">PERSON</span>\n",
       "</mark>\n",
       ", Mr. Vice President, members of \n",
       "<mark class=\"entity\" style=\"background: #7aecec; padding: 0.45em 0.6em; margin: 0 0.25em; line-height: 1; border-radius: 0.35em; box-decoration-break: clone; -webkit-box-decoration-break: clone\">\n",
       "    Congress\n",
       "    <span style=\"font-size: 0.8em; font-weight: bold; line-height: 1; border-radius: 0.35em; text-transform: uppercase; vertical-align: middle; margin-left: 0.5rem\">ORG</span>\n",
       "</mark>\n",
       ", honored guests, my fellow \n",
       "<mark class=\"entity\" style=\"background: #c887fb; padding: 0.45em 0.6em; margin: 0 0.25em; line-height: 1; border-radius: 0.35em; box-decoration-break: clone; -webkit-box-decoration-break: clone\">\n",
       "    Americans\n",
       "    <span style=\"font-size: 0.8em; font-weight: bold; line-height: 1; border-radius: 0.35em; text-transform: uppercase; vertical-align: middle; margin-left: 0.5rem\">NORP</span>\n",
       "</mark>\n",
       ": \n",
       "<mark class=\"entity\" style=\"background: #c887fb; padding: 0.45em 0.6em; margin: 0 0.25em; line-height: 1; border-radius: 0.35em; box-decoration-break: clone; -webkit-box-decoration-break: clone\">\n",
       "     \n",
       "    <span style=\"font-size: 0.8em; font-weight: bold; line-height: 1; border-radius: 0.35em; text-transform: uppercase; vertical-align: middle; margin-left: 0.5rem\">NORP</span>\n",
       "</mark>\n",
       "We are fortunate to be alive at \n",
       "<mark class=\"entity\" style=\"background: #bfe1d9; padding: 0.45em 0.6em; margin: 0 0.25em; line-height: 1; border-radius: 0.35em; box-decoration-break: clone; -webkit-box-decoration-break: clone\">\n",
       "    this moment\n",
       "    <span style=\"font-size: 0.8em; font-weight: bold; line-height: 1; border-radius: 0.35em; text-transform: uppercase; vertical-align: middle; margin-left: 0.5rem\">TIME</span>\n",
       "</mark>\n",
       " in history.</div>"
      ],
      "text/plain": [
       "<IPython.core.display.HTML object>"
      ]
     },
     "metadata": {},
     "output_type": "display_data"
    },
    {
     "data": {
      "text/html": [
       "<div class=\"entities\" style=\"line-height: 2.5\">Never before has our nation enjoyed, at once, so much prosperity and social progress with so little internal crisis and so few external threats.</div>"
      ],
      "text/plain": [
       "<IPython.core.display.HTML object>"
      ]
     },
     "metadata": {},
     "output_type": "display_data"
    },
    {
     "data": {
      "text/html": [
       "<div class=\"entities\" style=\"line-height: 2.5\">Never before have we had such a blessed opportunity and, therefore, such a profound obligation to build the more perfect Union of our \n",
       "<mark class=\"entity\" style=\"background: #7aecec; padding: 0.45em 0.6em; margin: 0 0.25em; line-height: 1; border-radius: 0.35em; box-decoration-break: clone; -webkit-box-decoration-break: clone\">\n",
       "    Founders’\n",
       "    <span style=\"font-size: 0.8em; font-weight: bold; line-height: 1; border-radius: 0.35em; text-transform: uppercase; vertical-align: middle; margin-left: 0.5rem\">ORG</span>\n",
       "</mark>\n",
       " dreams.  </div>"
      ],
      "text/plain": [
       "<IPython.core.display.HTML object>"
      ]
     },
     "metadata": {},
     "output_type": "display_data"
    },
    {
     "data": {
      "text/html": [
       "<div class=\"entities\" style=\"line-height: 2.5\">We begin \n",
       "<mark class=\"entity\" style=\"background: #bfe1d9; padding: 0.45em 0.6em; margin: 0 0.25em; line-height: 1; border-radius: 0.35em; box-decoration-break: clone; -webkit-box-decoration-break: clone\">\n",
       "    the new century\n",
       "    <span style=\"font-size: 0.8em; font-weight: bold; line-height: 1; border-radius: 0.35em; text-transform: uppercase; vertical-align: middle; margin-left: 0.5rem\">DATE</span>\n",
       "</mark>\n",
       " with \n",
       "<mark class=\"entity\" style=\"background: #e4e7d2; padding: 0.45em 0.6em; margin: 0 0.25em; line-height: 1; border-radius: 0.35em; box-decoration-break: clone; -webkit-box-decoration-break: clone\">\n",
       "    over 20 million\n",
       "    <span style=\"font-size: 0.8em; font-weight: bold; line-height: 1; border-radius: 0.35em; text-transform: uppercase; vertical-align: middle; margin-left: 0.5rem\">CARDINAL</span>\n",
       "</mark>\n",
       " new jobs; the fastest economic growth in \n",
       "<mark class=\"entity\" style=\"background: #bfe1d9; padding: 0.45em 0.6em; margin: 0 0.25em; line-height: 1; border-radius: 0.35em; box-decoration-break: clone; -webkit-box-decoration-break: clone\">\n",
       "    more than 30 years\n",
       "    <span style=\"font-size: 0.8em; font-weight: bold; line-height: 1; border-radius: 0.35em; text-transform: uppercase; vertical-align: middle; margin-left: 0.5rem\">DATE</span>\n",
       "</mark>\n",
       "; the lowest unemployment rates in \n",
       "<mark class=\"entity\" style=\"background: #bfe1d9; padding: 0.45em 0.6em; margin: 0 0.25em; line-height: 1; border-radius: 0.35em; box-decoration-break: clone; -webkit-box-decoration-break: clone\">\n",
       "    30 years\n",
       "    <span style=\"font-size: 0.8em; font-weight: bold; line-height: 1; border-radius: 0.35em; text-transform: uppercase; vertical-align: middle; margin-left: 0.5rem\">DATE</span>\n",
       "</mark>\n",
       "; the lowest poverty rates in \n",
       "<mark class=\"entity\" style=\"background: #bfe1d9; padding: 0.45em 0.6em; margin: 0 0.25em; line-height: 1; border-radius: 0.35em; box-decoration-break: clone; -webkit-box-decoration-break: clone\">\n",
       "    20 years\n",
       "    <span style=\"font-size: 0.8em; font-weight: bold; line-height: 1; border-radius: 0.35em; text-transform: uppercase; vertical-align: middle; margin-left: 0.5rem\">DATE</span>\n",
       "</mark>\n",
       "; the lowest \n",
       "<mark class=\"entity\" style=\"background: #c887fb; padding: 0.45em 0.6em; margin: 0 0.25em; line-height: 1; border-radius: 0.35em; box-decoration-break: clone; -webkit-box-decoration-break: clone\">\n",
       "    African-American\n",
       "    <span style=\"font-size: 0.8em; font-weight: bold; line-height: 1; border-radius: 0.35em; text-transform: uppercase; vertical-align: middle; margin-left: 0.5rem\">NORP</span>\n",
       "</mark>\n",
       " and \n",
       "<mark class=\"entity\" style=\"background: #c887fb; padding: 0.45em 0.6em; margin: 0 0.25em; line-height: 1; border-radius: 0.35em; box-decoration-break: clone; -webkit-box-decoration-break: clone\">\n",
       "    Hispanic\n",
       "    <span style=\"font-size: 0.8em; font-weight: bold; line-height: 1; border-radius: 0.35em; text-transform: uppercase; vertical-align: middle; margin-left: 0.5rem\">NORP</span>\n",
       "</mark>\n",
       " unemployment rates on record; the \n",
       "<mark class=\"entity\" style=\"background: #e4e7d2; padding: 0.45em 0.6em; margin: 0 0.25em; line-height: 1; border-radius: 0.35em; box-decoration-break: clone; -webkit-box-decoration-break: clone\">\n",
       "    first\n",
       "    <span style=\"font-size: 0.8em; font-weight: bold; line-height: 1; border-radius: 0.35em; text-transform: uppercase; vertical-align: middle; margin-left: 0.5rem\">ORDINAL</span>\n",
       "</mark>\n",
       " back-to-back surpluses in \n",
       "<mark class=\"entity\" style=\"background: #bfe1d9; padding: 0.45em 0.6em; margin: 0 0.25em; line-height: 1; border-radius: 0.35em; box-decoration-break: clone; -webkit-box-decoration-break: clone\">\n",
       "    42 years\n",
       "    <span style=\"font-size: 0.8em; font-weight: bold; line-height: 1; border-radius: 0.35em; text-transform: uppercase; vertical-align: middle; margin-left: 0.5rem\">DATE</span>\n",
       "</mark>\n",
       "; and \n",
       "<mark class=\"entity\" style=\"background: #bfe1d9; padding: 0.45em 0.6em; margin: 0 0.25em; line-height: 1; border-radius: 0.35em; box-decoration-break: clone; -webkit-box-decoration-break: clone\">\n",
       "    next month\n",
       "    <span style=\"font-size: 0.8em; font-weight: bold; line-height: 1; border-radius: 0.35em; text-transform: uppercase; vertical-align: middle; margin-left: 0.5rem\">DATE</span>\n",
       "</mark>\n",
       ", \n",
       "<mark class=\"entity\" style=\"background: #feca74; padding: 0.45em 0.6em; margin: 0 0.25em; line-height: 1; border-radius: 0.35em; box-decoration-break: clone; -webkit-box-decoration-break: clone\">\n",
       "    America\n",
       "    <span style=\"font-size: 0.8em; font-weight: bold; line-height: 1; border-radius: 0.35em; text-transform: uppercase; vertical-align: middle; margin-left: 0.5rem\">GPE</span>\n",
       "</mark>\n",
       " will achieve the longest period of economic growth in our entire history.</div>"
      ],
      "text/plain": [
       "<IPython.core.display.HTML object>"
      ]
     },
     "metadata": {},
     "output_type": "display_data"
    },
    {
     "data": {
      "text/html": [
       "<div class=\"entities\" style=\"line-height: 2.5\">We have built a new economy.  </div>"
      ],
      "text/plain": [
       "<IPython.core.display.HTML object>"
      ]
     },
     "metadata": {},
     "output_type": "display_data"
    },
    {
     "data": {
      "text/html": [
       "<div class=\"entities\" style=\"line-height: 2.5\">And our economic revolution has been matched by a revival of the \n",
       "<mark class=\"entity\" style=\"background: #c887fb; padding: 0.45em 0.6em; margin: 0 0.25em; line-height: 1; border-radius: 0.35em; box-decoration-break: clone; -webkit-box-decoration-break: clone\">\n",
       "    American\n",
       "    <span style=\"font-size: 0.8em; font-weight: bold; line-height: 1; border-radius: 0.35em; text-transform: uppercase; vertical-align: middle; margin-left: 0.5rem\">NORP</span>\n",
       "</mark>\n",
       " spirit: crime down by \n",
       "<mark class=\"entity\" style=\"background: #e4e7d2; padding: 0.45em 0.6em; margin: 0 0.25em; line-height: 1; border-radius: 0.35em; box-decoration-break: clone; -webkit-box-decoration-break: clone\">\n",
       "    20 percent\n",
       "    <span style=\"font-size: 0.8em; font-weight: bold; line-height: 1; border-radius: 0.35em; text-transform: uppercase; vertical-align: middle; margin-left: 0.5rem\">PERCENT</span>\n",
       "</mark>\n",
       ", to its lowest level in \n",
       "<mark class=\"entity\" style=\"background: #bfe1d9; padding: 0.45em 0.6em; margin: 0 0.25em; line-height: 1; border-radius: 0.35em; box-decoration-break: clone; -webkit-box-decoration-break: clone\">\n",
       "    25 years\n",
       "    <span style=\"font-size: 0.8em; font-weight: bold; line-height: 1; border-radius: 0.35em; text-transform: uppercase; vertical-align: middle; margin-left: 0.5rem\">DATE</span>\n",
       "</mark>\n",
       "; teen births down \n",
       "<mark class=\"entity\" style=\"background: #bfe1d9; padding: 0.45em 0.6em; margin: 0 0.25em; line-height: 1; border-radius: 0.35em; box-decoration-break: clone; -webkit-box-decoration-break: clone\">\n",
       "    seven years in a row\n",
       "    <span style=\"font-size: 0.8em; font-weight: bold; line-height: 1; border-radius: 0.35em; text-transform: uppercase; vertical-align: middle; margin-left: 0.5rem\">DATE</span>\n",
       "</mark>\n",
       "; adoptions up by \n",
       "<mark class=\"entity\" style=\"background: #e4e7d2; padding: 0.45em 0.6em; margin: 0 0.25em; line-height: 1; border-radius: 0.35em; box-decoration-break: clone; -webkit-box-decoration-break: clone\">\n",
       "    30 percent\n",
       "    <span style=\"font-size: 0.8em; font-weight: bold; line-height: 1; border-radius: 0.35em; text-transform: uppercase; vertical-align: middle; margin-left: 0.5rem\">PERCENT</span>\n",
       "</mark>\n",
       "; welfare rolls cut in \n",
       "<mark class=\"entity\" style=\"background: #e4e7d2; padding: 0.45em 0.6em; margin: 0 0.25em; line-height: 1; border-radius: 0.35em; box-decoration-break: clone; -webkit-box-decoration-break: clone\">\n",
       "    half\n",
       "    <span style=\"font-size: 0.8em; font-weight: bold; line-height: 1; border-radius: 0.35em; text-transform: uppercase; vertical-align: middle; margin-left: 0.5rem\">CARDINAL</span>\n",
       "</mark>\n",
       ", to their lowest levels in \n",
       "<mark class=\"entity\" style=\"background: #bfe1d9; padding: 0.45em 0.6em; margin: 0 0.25em; line-height: 1; border-radius: 0.35em; box-decoration-break: clone; -webkit-box-decoration-break: clone\">\n",
       "    30 years\n",
       "    <span style=\"font-size: 0.8em; font-weight: bold; line-height: 1; border-radius: 0.35em; text-transform: uppercase; vertical-align: middle; margin-left: 0.5rem\">DATE</span>\n",
       "</mark>\n",
       ".  </div>"
      ],
      "text/plain": [
       "<IPython.core.display.HTML object>"
      ]
     },
     "metadata": {},
     "output_type": "display_data"
    },
    {
     "data": {
      "text/html": [
       "<div class=\"entities\" style=\"line-height: 2.5\">My fellow \n",
       "<mark class=\"entity\" style=\"background: #c887fb; padding: 0.45em 0.6em; margin: 0 0.25em; line-height: 1; border-radius: 0.35em; box-decoration-break: clone; -webkit-box-decoration-break: clone\">\n",
       "    Americans\n",
       "    <span style=\"font-size: 0.8em; font-weight: bold; line-height: 1; border-radius: 0.35em; text-transform: uppercase; vertical-align: middle; margin-left: 0.5rem\">NORP</span>\n",
       "</mark>\n",
       ", the state of our \n",
       "<mark class=\"entity\" style=\"background: #7aecec; padding: 0.45em 0.6em; margin: 0 0.25em; line-height: 1; border-radius: 0.35em; box-decoration-break: clone; -webkit-box-decoration-break: clone\">\n",
       "    Union\n",
       "    <span style=\"font-size: 0.8em; font-weight: bold; line-height: 1; border-radius: 0.35em; text-transform: uppercase; vertical-align: middle; margin-left: 0.5rem\">ORG</span>\n",
       "</mark>\n",
       " is the strongest it has ever been.  </div>"
      ],
      "text/plain": [
       "<IPython.core.display.HTML object>"
      ]
     },
     "metadata": {},
     "output_type": "display_data"
    },
    {
     "data": {
      "text/html": [
       "<div class=\"entities\" style=\"line-height: 2.5\">As always, the real credit belongs to the \n",
       "<mark class=\"entity\" style=\"background: #c887fb; padding: 0.45em 0.6em; margin: 0 0.25em; line-height: 1; border-radius: 0.35em; box-decoration-break: clone; -webkit-box-decoration-break: clone\">\n",
       "    American\n",
       "    <span style=\"font-size: 0.8em; font-weight: bold; line-height: 1; border-radius: 0.35em; text-transform: uppercase; vertical-align: middle; margin-left: 0.5rem\">NORP</span>\n",
       "</mark>\n",
       " people.</div>"
      ],
      "text/plain": [
       "<IPython.core.display.HTML object>"
      ]
     },
     "metadata": {},
     "output_type": "display_data"
    },
    {
     "data": {
      "text/html": [
       "<div class=\"entities\" style=\"line-height: 2.5\">My gratitude also goes to those of you in this chamber who have worked with us to put progress over partisanship.  </div>"
      ],
      "text/plain": [
       "<IPython.core.display.HTML object>"
      ]
     },
     "metadata": {},
     "output_type": "display_data"
    },
    {
     "data": {
      "text/html": [
       "<div class=\"entities\" style=\"line-height: 2.5\">\n",
       "<mark class=\"entity\" style=\"background: #bfe1d9; padding: 0.45em 0.6em; margin: 0 0.25em; line-height: 1; border-radius: 0.35em; box-decoration-break: clone; -webkit-box-decoration-break: clone\">\n",
       "    Eight years ago\n",
       "    <span style=\"font-size: 0.8em; font-weight: bold; line-height: 1; border-radius: 0.35em; text-transform: uppercase; vertical-align: middle; margin-left: 0.5rem\">DATE</span>\n",
       "</mark>\n",
       ", it was not so clear to most \n",
       "<mark class=\"entity\" style=\"background: #c887fb; padding: 0.45em 0.6em; margin: 0 0.25em; line-height: 1; border-radius: 0.35em; box-decoration-break: clone; -webkit-box-decoration-break: clone\">\n",
       "    Americans\n",
       "    <span style=\"font-size: 0.8em; font-weight: bold; line-height: 1; border-radius: 0.35em; text-transform: uppercase; vertical-align: middle; margin-left: 0.5rem\">NORP</span>\n",
       "</mark>\n",
       " there would be much to celebrate in \n",
       "<mark class=\"entity\" style=\"background: #bfe1d9; padding: 0.45em 0.6em; margin: 0 0.25em; line-height: 1; border-radius: 0.35em; box-decoration-break: clone; -webkit-box-decoration-break: clone\">\n",
       "    the year 2000\n",
       "    <span style=\"font-size: 0.8em; font-weight: bold; line-height: 1; border-radius: 0.35em; text-transform: uppercase; vertical-align: middle; margin-left: 0.5rem\">DATE</span>\n",
       "</mark>\n",
       ".</div>"
      ],
      "text/plain": [
       "<IPython.core.display.HTML object>"
      ]
     },
     "metadata": {},
     "output_type": "display_data"
    }
   ],
   "source": [
    "%%capture --no-display\n",
    "for sent in list(doc.sents)[:10]:\n",
    "    displacy.render(nlp(sent.text), style=\"ent\", jupyter=True)"
   ]
  },
  {
   "cell_type": "markdown",
   "metadata": {},
   "source": [
    "It is possible to train your own entity recognition model, and to train other types of models in SpaCy, but you need sufficient labeled data to make it work well."
   ]
  },
  {
   "cell_type": "markdown",
   "metadata": {},
   "source": [
    "## Word transformations"
   ]
  },
  {
   "cell_type": "markdown",
   "metadata": {},
   "source": [
    "Lemmas"
   ]
  },
  {
   "cell_type": "code",
   "execution_count": 24,
   "metadata": {},
   "outputs": [
    {
     "name": "stdout",
     "output_type": "stream",
     "text": [
      "Mr.\tmr.\n",
      "Speaker\tspeaker\n",
      ",\t,\n",
      "Mr.\tmr.\n",
      "Vice\tvice\n",
      "President\tpresident\n",
      ",\t,\n",
      "members\tmember\n",
      "of\tof\n",
      "Congress\tcongress\n",
      ",\t,\n",
      "honored\thonor\n",
      "guests\tguest\n",
      ",\t,\n",
      "my\t-PRON-\n",
      "fellow\tfellow\n",
      "Americans\tamericans\n",
      ":\t:\n",
      " \t \n",
      "We\t-PRON-\n"
     ]
    }
   ],
   "source": [
    "for token in doc[:20]:\n",
    "    print(token.text, token.lemma_, sep=\"\\t\")"
   ]
  },
  {
   "cell_type": "code",
   "execution_count": 25,
   "metadata": {},
   "outputs": [
    {
     "name": "stdout",
     "output_type": "stream",
     "text": [
      "here\n",
      "be\n",
      "octopi\n"
     ]
    }
   ],
   "source": [
    "for token in nlp('here are octopi'):\n",
    "    print(token.lemma_)"
   ]
  },
  {
   "cell_type": "code",
   "execution_count": 26,
   "metadata": {},
   "outputs": [
    {
     "name": "stdout",
     "output_type": "stream",
     "text": [
      "There\tthere\n",
      "have\thave\n",
      "been\tbe\n",
      "many\tmany\n",
      "mice\tmouse\n",
      "and\tand\n",
      "geese\tgoose\n",
      "surrounding\tsurround\n",
      "the\tthe\n",
      "pond\tpond\n",
      ".\t.\n"
     ]
    }
   ],
   "source": [
    "for token in nlp('There have been many mice and geese surrounding the pond.'):\n",
    "    print(token, token.lemma_, sep=\"\\t\")"
   ]
  },
  {
   "cell_type": "markdown",
   "metadata": {},
   "source": [
    "Say we just want to lematize verbs"
   ]
  },
  {
   "cell_type": "code",
   "execution_count": 27,
   "metadata": {},
   "outputs": [
    {
     "name": "stdout",
     "output_type": "stream",
     "text": [
      "are\tbe\n",
      "have\thave\n",
      "begin\tbegin\n",
      "have\thave\n",
      "have\thave\n",
      "stress\tstress\n",
      "need\tneed\n",
      "have\thave\n",
      "have\thave\n",
      "pass\tpass\n",
      "have\thave\n",
      "are\tbe\n",
      "are\tbe\n",
      "’re\tbe\n",
      "ask\task\n",
      "ask\task\n",
      "ask\task\n",
      "ask\task\n",
      "ask\task\n",
      "implore\timplore\n",
      "here—[laughter]—two\there—[laughter]—two\n",
      "meet\tmeet\n",
      "are\tbe\n",
      "are\tbe\n",
      "stay\tstay\n",
      "have\thave\n",
      "thank\tthank\n",
      "go\tgo\n",
      "make\tmake\n",
      "ask\task\n",
      "need\tneed\n"
     ]
    }
   ],
   "source": [
    "for token in doc[:1500]:\n",
    "    if token.tag_ == \"VBP\":\n",
    "        print(token.text, token.lemma_, sep=\"\\t\")"
   ]
  },
  {
   "cell_type": "markdown",
   "metadata": {},
   "source": [
    "If you're using the simple part of speech instead of the tags."
   ]
  },
  {
   "cell_type": "code",
   "execution_count": 28,
   "metadata": {},
   "outputs": [
    {
     "name": "stdout",
     "output_type": "stream",
     "text": [
      "honored\thonor\n",
      "are\tbe\n",
      "be\tbe\n",
      "has\thave\n",
      "enjoyed\tenjoy\n",
      "have\thave\n",
      "had\thave\n",
      "blessed\tbless\n",
      "build\tbuild\n",
      "begin\tbegin\n",
      "will\twill\n",
      "achieve\tachieve\n",
      "have\thave\n",
      "built\tbuild\n",
      "has\thave\n",
      "been\tbe\n",
      "matched\tmatch\n",
      "cut\tcut\n",
      "is\tbe\n",
      "has\thave\n",
      "been\tbe\n"
     ]
    }
   ],
   "source": [
    "for token in doc[:250]:\n",
    "    if token.pos_ == \"VERB\":\n",
    "        print(token.text, token.lemma_, sep=\"\\t\")"
   ]
  },
  {
   "cell_type": "markdown",
   "metadata": {},
   "source": [
    "Lowercasing"
   ]
  },
  {
   "cell_type": "code",
   "execution_count": 29,
   "metadata": {},
   "outputs": [
    {
     "name": "stdout",
     "output_type": "stream",
     "text": [
      "Mr.\tmr.\n",
      "Speaker\tspeaker\n",
      ",\t,\n",
      "Mr.\tmr.\n",
      "Vice\tvice\n",
      "President\tpresident\n",
      ",\t,\n",
      "members\tmembers\n",
      "of\tof\n",
      "Congress\tcongress\n",
      ",\t,\n",
      "honored\thonored\n",
      "guests\tguests\n",
      ",\t,\n",
      "my\tmy\n",
      "fellow\tfellow\n",
      "Americans\tamericans\n",
      ":\t:\n",
      " \t \n",
      "We\twe\n"
     ]
    }
   ],
   "source": [
    "for token in doc[:20]:\n",
    "    print(token.text, token.lower_, sep=\"\\t\")"
   ]
  },
  {
   "cell_type": "markdown",
   "metadata": {},
   "source": [
    "## Keyword in Context (KWIC)\n",
    "\n",
    "\"A KWIC index, [the most common format for concordance lines], is formed by sorting and aligning the words within an article title to allow each word (except the stop words) in titles to be searchable alphabetically in the index.\" -- https://en.wikipedia.org/wiki/Key_Word_in_Context.\n",
    "\n",
    "It also allows for a quick exploration of how specific words are being used and in what context. One quick (but potentially very resource intensive) way of computing KWIC is by using n-grams. N-grams are sliced splits of tokens in groups of _n_, thus a 2-gram (bi-gram) is a group of 2 words, a 3-gram a group of 3. The way they are built is a follows.\n",
    "\n",
    "```\n",
    "This is a sentence\n",
    "```\n",
    "\n",
    "If we extract all bi-grams, we get\n",
    "\n",
    "`This, is`, `is a`, `a sentence`.\n",
    "\n",
    "And if we now focus in, for example, the context of `a`, we can see very quickly that is being used as follows:\n",
    "```\n",
    "is a\n",
    "   a sentence.\n",
    "```\n",
    "\n",
    "SpaCy does not support natively splitting by n-grams, but its wrapper `textacy` does, so all we need to do is to reconstruct a basic search over the ngrams with textacy"
   ]
  },
  {
   "cell_type": "code",
   "execution_count": 30,
   "metadata": {},
   "outputs": [],
   "source": [
    "import textacy"
   ]
  },
  {
   "cell_type": "code",
   "execution_count": 31,
   "metadata": {},
   "outputs": [
    {
     "data": {
      "text/plain": [
       "[This is, is a, a sentence]"
      ]
     },
     "execution_count": 31,
     "metadata": {},
     "output_type": "execute_result"
    }
   ],
   "source": [
    "list(textacy.extract.ngrams(nlp(\"This is a sentence\"), 2, filter_stops=False))"
   ]
  },
  {
   "cell_type": "markdown",
   "metadata": {},
   "source": [
    "However, textacy already includes KWIC by default"
   ]
  },
  {
   "cell_type": "code",
   "execution_count": 32,
   "metadata": {},
   "outputs": [
    {
     "name": "stdout",
     "output_type": "stream",
     "text": [
      "s always, the real credit belongs to the American  people . My gratitude also goes to those of you in this c\n",
      " both opportunity and responsibility and give our  people  the tools they need to solve their own problems. \n",
      "school programs, which boost achievement and keep  people  off the streets and out of trouble. If we do this\n",
      "cher quality initiative, to recruit more talented  people  into the classroom, reward good teachers for stay\n",
      "m, which provides mentors for disadvantaged young  people . If we double it, we can provide mentors for 1.4 \n",
      ", which have already benefited five million young  people .  Now, 67 percent of high school graduates are go\n",
      "us to cover nearly a quarter of all the uninsured  people  in America.  Again, I want to ask you to let peop\n",
      "ople in America.  Again, I want to ask you to let  people  between the ages of 55 and 65, the fastest growin\n",
      "to break down the barriers to decent treatment of  people  with mental illness. Thank you, Tipper Gore.  Tak\n",
      "ies that have more than two children. It punishes  people  with more than two children today. Our proposal w\n",
      "ax credit refundable for low income families. For  people  making under $30,000 a year, that could mean up t\n",
      "rovide a meaningful pension to its workers. Those  people  ought to have retirement as well as the rest of u\n",
      "r what we did last year. We came together to help  people  with disabilities keep their health insurance whe\n",
      "ve improved foster care. We’ve helped those young  people  who leave it when they turn 18, and we have drama\n",
      "ced down the gun lobby, stood up for the American  people , and passed this legislation. But the House faile\n",
      "ined by many of you and many far-sighted business  people , to shine a spotlight on the enormous potential i\n",
      "dge Reservation. Everywhere I go, I meet talented  people  eager for opportunity and able to work. Tonight I\n",
      "is not a Democratic or a Republican issue. Giving  people  a chance to live their dreams is an American issu\n",
      "e the digital divide and open opportunity for our  people . I want to thank the high-tech companies that alr\n",
      "is profound is both liberating and threatening to  people . But there’s no turning back. And our open, creat\n",
      "ctually serving with ours in the Balkans; Russian  people  electing their leaders for the first time in 1,00\n",
      "he ethnic cleansing in Kosovo, enabling a million  people  to return to their homes.  When Slobodan Milosevi\n",
      "s is interesting: From Nigeria to Indonesia, more  people  got the right to choose their leaders in 1999 tha\n",
      ", which is fighting narcotraffickers, for its own  people ’s lives and our children’s lives. I have proposed\n",
      "ss that as well.  In a world where over a billion  people  live on less than a dollar a day, we also have go\n",
      "of disease. Last year in Africa, 10 times as many  people  died from AIDS as were killed in wars—10 times. T\n",
      ", if I might, very personal tonight. The American  people  watching us at home, with the help of all the com\n",
      " for that.  I also want to thank, especially, two  people . First, I want to thank our Secretary of Defense,\n",
      "te, ensured cleaner air and water for millions of  people . In the past three months alone, we’ve helped pre\n",
      "is House. I hope we can get together with all the  people  with different ideas and do this. This is a gift \n",
      "ed. That is going to happen, unless we act.  Many  people  in the United States, some people in this chamber\n",
      "s we act.  Many people in the United States, some  people  in this chamber, and lots of folks around the wor\n",
      "orking on an artificial retina to help many blind  people  to see and—listen to this—microchips that would a\n",
      "te damaged spinal cords in a way that could allow  people  now paralyzed to stand up and walk.  These kinds \n",
      "n our national community.  No tie binds different  people  together like citizen service. There’s a new spir\n",
      "tnerships to battle drug abuse, AIDS, teach young  people  to read, save America’s treasures, strengthen the\n",
      "ight teen pregnancy, prevent violence among young  people , promote racial healing. The American people are \n",
      "oung people, promote racial healing. The American  people  are working together.  But we should do more to h\n",
      " do more to fight poverty and drug abuse and help  people  get back on the right track, with initiatives lik\n",
      "tion. It’s nothing but fair, and it will get more  people  to give.  We should do more to help new immigrant\n",
      "his recent acts of healing, he has always brought  people  together. We should follow his example, and we’re\n"
     ]
    }
   ],
   "source": [
    "textacy.text_utils.KWIC(doc.text, \"people\")"
   ]
  },
  {
   "cell_type": "markdown",
   "metadata": {},
   "source": [
    "## Counting\n",
    "\n",
    "Counting is at the basics of Natural Language Processing, and in some sub-disciplines is still the king of methods. Let's see a couple of approaches to counting."
   ]
  },
  {
   "cell_type": "markdown",
   "metadata": {},
   "source": [
    "First, we will use the builtin `Counter()` class and a sample document containing a couple of sentences."
   ]
  },
  {
   "cell_type": "code",
   "execution_count": 33,
   "metadata": {},
   "outputs": [],
   "source": [
    "from collections import Counter"
   ]
  },
  {
   "cell_type": "code",
   "execution_count": 34,
   "metadata": {},
   "outputs": [],
   "source": [
    "sample_sents = \"One fish, two fish, red fish, blue fish. One is less than two.\""
   ]
  },
  {
   "cell_type": "markdown",
   "metadata": {},
   "source": [
    "Create a list of the words without the punctuation."
   ]
  },
  {
   "cell_type": "code",
   "execution_count": 35,
   "metadata": {},
   "outputs": [
    {
     "data": {
      "text/plain": [
       "['One',\n",
       " 'fish',\n",
       " 'two',\n",
       " 'fish',\n",
       " 'red',\n",
       " 'fish',\n",
       " 'blue',\n",
       " 'fish',\n",
       " 'One',\n",
       " 'is',\n",
       " 'less',\n",
       " 'than',\n",
       " 'two']"
      ]
     },
     "execution_count": 35,
     "metadata": {},
     "output_type": "execute_result"
    }
   ],
   "source": [
    "new_doc = nlp(sample_sents)\n",
    "words = [token.text for token in new_doc if token.pos_ is not 'PUNCT']\n",
    "words"
   ]
  },
  {
   "cell_type": "code",
   "execution_count": 36,
   "metadata": {},
   "outputs": [],
   "source": [
    "counter = Counter(words)"
   ]
  },
  {
   "cell_type": "markdown",
   "metadata": {},
   "source": [
    "To all the distinct words in a document or a corpus, we call vocabulary or lexicon."
   ]
  },
  {
   "cell_type": "code",
   "execution_count": 37,
   "metadata": {},
   "outputs": [
    {
     "data": {
      "text/plain": [
       "dict_keys(['One', 'fish', 'two', 'red', 'blue', 'is', 'less', 'than'])"
      ]
     },
     "execution_count": 37,
     "metadata": {},
     "output_type": "execute_result"
    }
   ],
   "source": [
    "counter.keys()"
   ]
  },
  {
   "cell_type": "markdown",
   "metadata": {},
   "source": [
    "And the frequency of each term in a document can be then determined."
   ]
  },
  {
   "cell_type": "code",
   "execution_count": 38,
   "metadata": {},
   "outputs": [
    {
     "data": {
      "text/plain": [
       "[('fish', 4),\n",
       " ('One', 2),\n",
       " ('two', 2),\n",
       " ('red', 1),\n",
       " ('blue', 1),\n",
       " ('is', 1),\n",
       " ('less', 1),\n",
       " ('than', 1)]"
      ]
     },
     "execution_count": 38,
     "metadata": {},
     "output_type": "execute_result"
    }
   ],
   "source": [
    "counter.most_common()"
   ]
  },
  {
   "cell_type": "code",
   "execution_count": 39,
   "metadata": {},
   "outputs": [
    {
     "data": {
      "text/plain": [
       "4"
      ]
     },
     "execution_count": 39,
     "metadata": {},
     "output_type": "execute_result"
    }
   ],
   "source": [
    "counter[\"fish\"]"
   ]
  },
  {
   "cell_type": "markdown",
   "metadata": {},
   "source": [
    "This is the basics of what is known as bag of words (BoW), which is widely used technice to transform text into numbers (thus: vectorization) suitable for machine learning algorithms. It's also supported in textacy out of the box (with some caveats)."
   ]
  },
  {
   "cell_type": "code",
   "execution_count": 40,
   "metadata": {},
   "outputs": [],
   "source": [
    "tdoc = textacy.Doc(nlp(sample_sents))"
   ]
  },
  {
   "cell_type": "code",
   "execution_count": 41,
   "metadata": {},
   "outputs": [
    {
     "data": {
      "text/plain": [
       "{'red': 1, 'fish': 4, 'One': 2, 'blue': 1}"
      ]
     },
     "execution_count": 41,
     "metadata": {},
     "output_type": "execute_result"
    }
   ],
   "source": [
    "tdoc.to_bag_of_words(normalize=None, as_strings=True)"
   ]
  },
  {
   "cell_type": "markdown",
   "metadata": {},
   "source": [
    "The main difference is that textacy always removes stop words. It should actually be optional."
   ]
  },
  {
   "cell_type": "code",
   "execution_count": 42,
   "metadata": {},
   "outputs": [
    {
     "data": {
      "text/plain": [
       "4"
      ]
     },
     "execution_count": 42,
     "metadata": {},
     "output_type": "execute_result"
    }
   ],
   "source": [
    "tdoc.count(\"fish\")"
   ]
  },
  {
   "cell_type": "markdown",
   "metadata": {},
   "source": [
    "<div style=\"font-size: 1em; margin: 1em 0 1em 0; border: 1px solid #86989B; background-color: #f7f7f7; padding: 0;\">\n",
    "<p style=\"margin: 0; padding: 0.1em 0 0.1em 0.5em; color: white; border-bottom: 1px solid #86989B; font-weight: bold; background-color: #AFC1C4;\">\n",
    "Activity\n",
    "</p>\n",
    "<p style=\"margin: 0.5em 1em 0.5em 1em; padding: 0;\">\n",
    "Let's define the lexicon of a person as the number of different words she uses to speak. Write a function `get_lexicon(text, n)` that receives `text` and `n` and returns the lemmas of nouns, verbs, and adjectives that are used at least `n` times.\n",
    "<br/>\n",
    "</p>\n",
    "</div>"
   ]
  },
  {
   "cell_type": "code",
   "execution_count": 43,
   "metadata": {},
   "outputs": [
    {
     "data": {
      "text/plain": [
       "['-PRON-',\n",
       " 'ask',\n",
       " 'be',\n",
       " 'can',\n",
       " 'child',\n",
       " 'do',\n",
       " 'have',\n",
       " 'help',\n",
       " 'make',\n",
       " 'more',\n",
       " 'must',\n",
       " 'new',\n",
       " 'people',\n",
       " 'thank',\n",
       " 'that',\n",
       " 'will',\n",
       " 'work',\n",
       " 'year']"
      ]
     },
     "execution_count": 43,
     "metadata": {},
     "output_type": "execute_result"
    }
   ],
   "source": [
    "def get_lexicon(text, n):\n",
    "    doc = nlp(text)\n",
    "    \n",
    "    # return a list of words that     \n",
    "    words = [token.lemma_ for token in doc if token.pos_ in [\"NOUN\", \"ADJ\", \"VERB\"]]\n",
    "    # count the words     \n",
    "    counter = Counter(words)\n",
    "    # filter by number\n",
    "    filtered_words = [word for word in counter if counter[word] > n]\n",
    "    return sorted(filtered_words)\n",
    "    \n",
    "get_lexicon(clinton_speech, 30)"
   ]
  },
  {
   "cell_type": "markdown",
   "metadata": {},
   "source": [
    "## TF-IDF and Document-Term Matrices"
   ]
  },
  {
   "cell_type": "markdown",
   "metadata": {},
   "source": [
    "From our intuition, we think that the words which appear more often should have a greater weight in textual data analysis, but that's not always the case. Words such as “the”, “will”, and “you” —stopwords— appear the most in a corpus of text, but are of very little significance. Instead, the words which are rare are the ones that actually help in distinguishing between the data, and carry more weight.\n",
    "\n",
    "TF-IDF stands for “Term Frequency — Inverse Data Frequency”, and it's just a vectorization algorithm that tries to assign weights based on the relative importance of a word within a document and the corpus it belongs to.\n",
    "\n",
    "- Term Frequency (tf): gives the frequency of the word ($t$) in each document ($d$) in the corpus ($D$). It is the ratio of number of times the word appears in a document compared to the total number of words in that document. It increases as the number of occurrences of that word within the document increases. Each document has its own tf.\n",
    "- Inverse Data Frequency (idf): used to calculate the weight of rare words across all documents in the corpus. The words that occur rarely in the corpus have a high IDF score.\n",
    "\n",
    "$$idf( t, D ) = log \\frac{ \\text{| } D \\text{ |} }{ 1 + \\text{| } \\{ d \\in D : t \\in d \\} \\text{ |} }$$\n",
    "\n",
    "Combining these two we come up with the TF-IDF score for a word in a document in the corpus. It is the product of tf and idf.\n",
    "\n",
    "$$tfidf( t, d, D ) = tf( t, d ) \\times idf( t, D )$$\n",
    "\n",
    "Let's now compile a tiny corpus to illustrate."
   ]
  },
  {
   "cell_type": "code",
   "execution_count": 44,
   "metadata": {},
   "outputs": [],
   "source": [
    "raw_corpus = [\n",
    "    \"The sky is blue.\",\n",
    "    \"The sun is bright today.\",\n",
    "    \"The sun in the sky is bright.\",\n",
    "    \"We can see the shining sun, the bright sun.\",\n",
    "]"
   ]
  },
  {
   "cell_type": "code",
   "execution_count": 45,
   "metadata": {},
   "outputs": [
    {
     "data": {
      "text/plain": [
       "Corpus(4 docs; 30 tokens)"
      ]
     },
     "execution_count": 45,
     "metadata": {},
     "output_type": "execute_result"
    }
   ],
   "source": [
    "corpus = textacy.Corpus('en', texts=raw_corpus)\n",
    "corpus"
   ]
  },
  {
   "cell_type": "code",
   "execution_count": 46,
   "metadata": {},
   "outputs": [],
   "source": [
    "from textacy.vsm.vectorizers import Vectorizer"
   ]
  },
  {
   "cell_type": "code",
   "execution_count": 47,
   "metadata": {},
   "outputs": [],
   "source": [
    "vectorizer = Vectorizer(tf_type='linear', apply_idf=True, idf_type='smooth', apply_dl=False)"
   ]
  },
  {
   "cell_type": "code",
   "execution_count": 48,
   "metadata": {},
   "outputs": [
    {
     "data": {
      "text/plain": [
       "matrix([[1.22314355, 1.22314355, 1.22314355, 0.        ],\n",
       "        [0.        , 0.        , 0.        , 1.91629073],\n",
       "        [1.91629073, 0.        , 0.        , 0.        ],\n",
       "        [0.        , 1.22314355, 1.22314355, 1.22314355],\n",
       "        [0.        , 0.        , 0.        , 1.91629073],\n",
       "        [0.        , 0.        , 1.91629073, 0.        ],\n",
       "        [1.22314355, 1.22314355, 1.22314355, 0.        ],\n",
       "        [0.        , 0.        , 0.        , 1.91629073],\n",
       "        [0.        , 0.        , 0.        , 1.91629073],\n",
       "        [1.51082562, 0.        , 1.51082562, 0.        ],\n",
       "        [0.        , 1.22314355, 1.22314355, 2.4462871 ],\n",
       "        [0.        , 0.        , 1.51082562, 3.02165125],\n",
       "        [0.        , 1.91629073, 0.        , 0.        ]])"
      ]
     },
     "execution_count": 48,
     "metadata": {},
     "output_type": "execute_result"
    }
   ],
   "source": [
    "vectorizer.fit_transform([\n",
    "    doc.to_terms_list(normalize=None, as_strings=True, ngrams=(1,), filter_stops=False)\n",
    "    for doc in corpus.docs\n",
    "]).todense().T"
   ]
  },
  {
   "cell_type": "markdown",
   "metadata": {},
   "source": [
    "This matrix above is the document-term matrix, in which (although now transposed), rows represent documents and columns weights, in this case tf-idf weights."
   ]
  },
  {
   "cell_type": "code",
   "execution_count": 49,
   "metadata": {},
   "outputs": [
    {
     "data": {
      "text/plain": [
       "{'The': 0,\n",
       " 'sky': 9,\n",
       " 'is': 6,\n",
       " 'blue': 2,\n",
       " 'today': 12,\n",
       " 'sun': 10,\n",
       " 'bright': 3,\n",
       " 'in': 5,\n",
       " 'the': 11,\n",
       " 'We': 1,\n",
       " 'can': 4,\n",
       " 'see': 7,\n",
       " 'shining': 8}"
      ]
     },
     "execution_count": 49,
     "metadata": {},
     "output_type": "execute_result"
    }
   ],
   "source": [
    "vectorizer.vocabulary_terms"
   ]
  },
  {
   "cell_type": "markdown",
   "metadata": {},
   "source": [
    "It could also be obtained a doc-term matrix with raw counts instead (tf)."
   ]
  },
  {
   "cell_type": "code",
   "execution_count": 50,
   "metadata": {},
   "outputs": [
    {
     "data": {
      "text/plain": [
       "matrix([[1, 1, 1, 0],\n",
       "        [0, 0, 0, 1],\n",
       "        [1, 0, 0, 0],\n",
       "        [0, 1, 1, 1],\n",
       "        [0, 0, 0, 1],\n",
       "        [0, 0, 1, 0],\n",
       "        [1, 1, 1, 0],\n",
       "        [0, 0, 0, 1],\n",
       "        [0, 0, 0, 1],\n",
       "        [1, 0, 1, 0],\n",
       "        [0, 1, 1, 2],\n",
       "        [0, 0, 1, 2],\n",
       "        [0, 1, 0, 0]], dtype=int32)"
      ]
     },
     "execution_count": 50,
     "metadata": {},
     "output_type": "execute_result"
    }
   ],
   "source": [
    "vectorizer = Vectorizer(tf_type='linear', apply_idf=False, apply_dl=False)\n",
    "vectorizer.fit_transform([\n",
    "    doc.to_terms_list(normalize=None, as_strings=True, ngrams=(1,), filter_stops=False)\n",
    "    for doc in corpus.docs\n",
    "]).todense().T"
   ]
  },
  {
   "cell_type": "code",
   "execution_count": 51,
   "metadata": {},
   "outputs": [
    {
     "data": {
      "text/plain": [
       "{'The': 0,\n",
       " 'sky': 9,\n",
       " 'is': 6,\n",
       " 'blue': 2,\n",
       " 'today': 12,\n",
       " 'sun': 10,\n",
       " 'bright': 3,\n",
       " 'in': 5,\n",
       " 'the': 11,\n",
       " 'We': 1,\n",
       " 'can': 4,\n",
       " 'see': 7,\n",
       " 'shining': 8}"
      ]
     },
     "execution_count": 51,
     "metadata": {},
     "output_type": "execute_result"
    }
   ],
   "source": [
    "vectorizer.vocabulary_terms"
   ]
  },
  {
   "cell_type": "markdown",
   "metadata": {},
   "source": [
    "Let's now try with a bigger corpus of US President's speeches."
   ]
  },
  {
   "cell_type": "code",
   "execution_count": 52,
   "metadata": {},
   "outputs": [],
   "source": [
    "clinton_url = \"https://raw.githubusercontent.com/sul-cidr/python_workshops/master/data/clinton2000.txt\"\n",
    "bush_url = \"https://raw.githubusercontent.com/sul-cidr/python_workshops/master/data/bush2008.txt\"\n",
    "obama_url = \"https://raw.githubusercontent.com/sul-cidr/python_workshops/master/data/obama2016.txt\"\n",
    "trump_url = \"https://raw.githubusercontent.com/sul-cidr/python_workshops/master/data/trump.txt\""
   ]
  },
  {
   "cell_type": "code",
   "execution_count": 53,
   "metadata": {},
   "outputs": [],
   "source": [
    "clinton_speech = get_speech(clinton_url)\n",
    "bush_speech = get_speech(bush_url)\n",
    "obama_speech = get_speech(obama_url)\n",
    "trump_speech = get_speech(trump_url)"
   ]
  },
  {
   "cell_type": "code",
   "execution_count": 54,
   "metadata": {},
   "outputs": [],
   "source": [
    "speeches = textacy.Corpus(\n",
    "    'en',\n",
    "    texts=[clinton_speech, bush_speech, obama_speech, trump_speech],\n",
    "    metadatas=[{\"name\": \"clinton\"}, {\"name\": \"bush\"}, {\"name\": \"obama\"}, {\"name\": \"trump\"}]\n",
    ")"
   ]
  },
  {
   "cell_type": "code",
   "execution_count": 55,
   "metadata": {},
   "outputs": [
    {
     "data": {
      "text/plain": [
       "Corpus(4 docs; 29950 tokens)"
      ]
     },
     "execution_count": 55,
     "metadata": {},
     "output_type": "execute_result"
    }
   ],
   "source": [
    "speeches"
   ]
  },
  {
   "cell_type": "code",
   "execution_count": 56,
   "metadata": {},
   "outputs": [],
   "source": [
    "vectorizer = Vectorizer(tf_type='linear', apply_idf=True, idf_type='smooth', apply_dl=False)  # tf-idf\n",
    "terms_list = [\n",
    "    doc.to_terms_list(normalize=None, as_strings=True, ngrams=(1,), filter_stops=True)\n",
    "    for doc in speeches.docs\n",
    "]\n",
    "doc_term_matrix = vectorizer.fit_transform(terms_list)"
   ]
  },
  {
   "cell_type": "code",
   "execution_count": 57,
   "metadata": {},
   "outputs": [
    {
     "data": {
      "text/plain": [
       "<4x4308 sparse matrix of type '<class 'numpy.float64'>'\n",
       "\twith 6626 stored elements in Compressed Sparse Row format>"
      ]
     },
     "execution_count": 57,
     "metadata": {},
     "output_type": "execute_result"
    }
   ],
   "source": [
    "doc_term_matrix"
   ]
  },
  {
   "cell_type": "code",
   "execution_count": 58,
   "metadata": {},
   "outputs": [
    {
     "data": {
      "text/plain": [
       "['Beijing',\n",
       " 'Belarus',\n",
       " 'Belgium',\n",
       " 'Believe',\n",
       " 'Bell',\n",
       " 'Benghazi',\n",
       " 'Benjamin',\n",
       " 'Benjamin Franklin',\n",
       " 'Bentsen',\n",
       " 'Berlin',\n",
       " 'Bernardino',\n",
       " 'Bevin',\n",
       " 'Beyond',\n",
       " 'Bible',\n",
       " 'Biden',\n",
       " 'Big',\n",
       " 'Bill',\n",
       " 'Bill Cohen',\n",
       " 'Black',\n",
       " 'Black History Month',\n",
       " 'Bless',\n",
       " 'Bob',\n",
       " 'Bob Dole',\n",
       " 'Boehner',\n",
       " 'Border']"
      ]
     },
     "execution_count": 58,
     "metadata": {},
     "output_type": "execute_result"
    }
   ],
   "source": [
    "vectorizer.terms_list[250:275]"
   ]
  },
  {
   "cell_type": "markdown",
   "metadata": {},
   "source": [
    "## Topic Models\n",
    "\n",
    "Once we have our weighted document-term matrix, is easy to calculate what are the more prominent topics using topic modeling."
   ]
  },
  {
   "cell_type": "code",
   "execution_count": 59,
   "metadata": {},
   "outputs": [
    {
     "data": {
      "text/plain": [
       "TopicModel(n_topics=20, model=TruncatedSVD)"
      ]
     },
     "execution_count": 59,
     "metadata": {},
     "output_type": "execute_result"
    }
   ],
   "source": [
    "model = textacy.tm.TopicModel('lsa', n_topics=20)\n",
    "model.fit(doc_term_matrix)\n",
    "model"
   ]
  },
  {
   "cell_type": "code",
   "execution_count": 60,
   "metadata": {},
   "outputs": [
    {
     "name": "stdout",
     "output_type": "stream",
     "text": [
      "topic 0 : I   ’s   We   Applause   And   America   people   new   n’t   American\n",
      "topic 1 : Applause   ’s   n’t   It   ISIL   politics   That   And   change   's\n",
      "topic 2 : 's   've   America   Iraq   're   Iraqi   American   trust   And   Al\n",
      "topic 3 : Nation   American   Megan   's   infrastructure   asking   country   dollars   great   But\n"
     ]
    }
   ],
   "source": [
    "doc_topic_matrix = model.transform(doc_term_matrix)\n",
    "for topic_idx, top_terms in model.top_topic_terms(vectorizer.id_to_term, topics=range(4)):\n",
    "    print('topic', topic_idx, ':', '   '.join(top_terms))"
   ]
  },
  {
   "cell_type": "markdown",
   "metadata": {},
   "source": [
    "Visualize the model"
   ]
  },
  {
   "cell_type": "code",
   "execution_count": 61,
   "metadata": {},
   "outputs": [
    {
     "name": "stderr",
     "output_type": "stream",
     "text": [
      "/home/versae/.pyenv/versions/3.7.2/envs/singapore/lib/python3.7/site-packages/matplotlib/collections.py:874: RuntimeWarning: invalid value encountered in sqrt\n",
      "  scale = np.sqrt(self._sizes) * dpi / 72.0 * self._factor\n"
     ]
    },
    {
     "data": {
      "text/plain": [
       "<matplotlib.axes._subplots.AxesSubplot at 0x7f8e30e44e10>"
      ]
     },
     "execution_count": 61,
     "metadata": {},
     "output_type": "execute_result"
    },
    {
     "data": {
      "image/png": "[encoded data removed]",
      "text/plain": [
       "<Figure size 218.263x602.522 with 1 Axes>"
      ]
     },
     "metadata": {},
     "output_type": "display_data"
    }
   ],
   "source": [
    "model.termite_plot(doc_term_matrix, vectorizer.id_to_term,\n",
    "                   topics=range(4),  n_terms=25, sort_terms_by='seriation')"
   ]
  },
  {
   "cell_type": "markdown",
   "metadata": {},
   "source": [
    "## Clustering with PCA"
   ]
  },
  {
   "cell_type": "markdown",
   "metadata": {},
   "source": [
    "It is now also possible to cluster the documents based in their tf-idf weihts using PCA."
   ]
  },
  {
   "cell_type": "code",
   "execution_count": 62,
   "metadata": {},
   "outputs": [],
   "source": [
    "import matplotlib.pyplot as plt\n",
    "from sklearn.decomposition import PCA"
   ]
  },
  {
   "cell_type": "code",
   "execution_count": 63,
   "metadata": {},
   "outputs": [
    {
     "data": {
      "image/png": "[encoded data removed]",
      "text/plain": [
       "<Figure size 1152x576 with 1 Axes>"
      ]
     },
     "metadata": {
      "needs_background": "light"
     },
     "output_type": "display_data"
    }
   ],
   "source": [
    "X = doc_term_matrix.todense()\n",
    "labels_color_map = {\n",
    "    'Clinton': '#20b2aa', 'Bush': '#ff7373', 'Obama': '#005073', 'Trump': '#F0926E'\n",
    "}\n",
    "labels = list(labels_color_map.keys())\n",
    "reduced_data = PCA(n_components=2).fit_transform(X)\n",
    "\n",
    "fig, ax = plt.subplots(figsize=(16, 8))\n",
    "for index, instance in enumerate(reduced_data):\n",
    "    pca_comp_1, pca_comp_2 = reduced_data[index]\n",
    "    color = labels_color_map[labels[index]]\n",
    "    ax.scatter(pca_comp_1, pca_comp_2, c=color)\n",
    "ax.legend(labels);"
   ]
  },
  {
   "cell_type": "markdown",
   "metadata": {},
   "source": [
    "# Readability indices\n",
    "\n",
    "Readability indices are ways of assessing how easy or complex it is to read a particular text based on the words and sentences it has. They usually output scores that correlate with grade levels.\n",
    "\n",
    "A couple of indices that are presumably easy to calculate are the [Auto Readability Index (ARI)](https://en.wikipedia.org/wiki/Automated_readability_index) and the [Coleman-Liau Index](https://en.wikipedia.org/wiki/Coleman%E2%80%93Liau_index):\n",
    "\n",
    "$$\n",
    "ARI = 4.71\\frac{chars}{words}+0.5\\frac{words}{sentences}-21.43\n",
    "$$\n",
    "$$ CL = 0.0588\\frac{letters}{100 words} - 0.296\\frac{sentences}{100words} - 15.8 $$\n"
   ]
  },
  {
   "cell_type": "code",
   "execution_count": 64,
   "metadata": {},
   "outputs": [],
   "source": [
    "# problem: the tokens in spacy include punctuation. to get this right, we should remove punct\n",
    "# we then have to make sure our functions handle lists of words rather than spacy doc objects\n",
    "\n",
    "def coleman_liau_index(doc, words):\n",
    "    return (0.0588 * letters_per_100(doc)) - (0.296 * sentences_per_100(doc, words)) - 15.8\n",
    "\n",
    "def count_chars(words):\n",
    "    return sum(len(w) for w in words)\n",
    "\n",
    "def sentences_per_100(doc, words):\n",
    "    return (len(list(doc.sents)) / len(words)) * 100\n",
    "\n",
    "def letters_per_100(words):\n",
    "    return (count_chars(words) / len(words)) * 100"
   ]
  },
  {
   "cell_type": "code",
   "execution_count": 65,
   "metadata": {},
   "outputs": [],
   "source": [
    "# To get just the words, without punctuation tokens\n",
    "def return_words(doc):\n",
    "    return [token.text for token in doc if token.pos_ is not 'PUNCT']"
   ]
  },
  {
   "cell_type": "code",
   "execution_count": 66,
   "metadata": {
    "scrolled": false
   },
   "outputs": [
    {
     "data": {
      "text/plain": [
       "['Regional',\n",
       " 'ontology',\n",
       " 'clearly',\n",
       " 'defined',\n",
       " 'by',\n",
       " 'Heidegger',\n",
       " 'equals',\n",
       " 'if',\n",
       " 'not',\n",
       " 'surpasses',\n",
       " 'the',\n",
       " 'earlier',\n",
       " 'work',\n",
       " 'of',\n",
       " 'Heidegger',\n",
       " \"'s\",\n",
       " 'own',\n",
       " 'mentor',\n",
       " 'Husserl']"
      ]
     },
     "execution_count": 66,
     "metadata": {},
     "output_type": "execute_result"
    }
   ],
   "source": [
    "fancy_doc = nlp(\"Regional ontology, clearly defined by Heidegger, equals, if not surpasses, the earlier work of Heidegger's own mentor, Husserl\")\n",
    "fancy_words = return_words(fancy_doc)\n",
    "fancy_words"
   ]
  },
  {
   "cell_type": "code",
   "execution_count": 67,
   "metadata": {},
   "outputs": [
    {
     "data": {
      "text/plain": [
       "9.347105263157896"
      ]
     },
     "execution_count": 67,
     "metadata": {},
     "output_type": "execute_result"
    }
   ],
   "source": [
    "coleman_liau_index(fancy_doc, fancy_words)"
   ]
  },
  {
   "cell_type": "code",
   "execution_count": 68,
   "metadata": {},
   "outputs": [
    {
     "data": {
      "text/plain": [
       "6.646373434685"
      ]
     },
     "execution_count": 68,
     "metadata": {},
     "output_type": "execute_result"
    }
   ],
   "source": [
    "doc = nlp(clinton_speech)\n",
    "clinton_speech_words = return_words(doc)\n",
    "coleman_liau_index(doc, clinton_speech_words)"
   ]
  },
  {
   "cell_type": "markdown",
   "metadata": {},
   "source": [
    "<div style=\"font-size: 1em; margin: 1em 0 1em 0; border: 1px solid #86989B; background-color: #f7f7f7; padding: 0;\">\n",
    "<p style=\"margin: 0; padding: 0.1em 0 0.1em 0.5em; color: white; border-bottom: 1px solid #86989B; font-weight: bold; background-color: #AFC1C4;\">\n",
    "Activity\n",
    "</p>\n",
    "<p style=\"margin: 0.5em 1em 0.5em 1em; padding: 0;\">\n",
    "Write a function `auto_readability_index(doc)` that receives a spacy `Doc` and returns the Auto Readability Index (ARI) score as defined above. \n",
    "<br/>\n",
    "* **Hint**: Feel free to use functions we've defined before.*\n",
    "   \n",
    "</p>\n",
    "</div>"
   ]
  },
  {
   "cell_type": "code",
   "execution_count": 69,
   "metadata": {},
   "outputs": [],
   "source": [
    "def auto_readability_index(doc):\n",
    "    words = return_words(doc)\n",
    "    chars = count_chars(words)\n",
    "    words = len(words)\n",
    "    sentences = len(list(doc.sents))\n",
    "    return (4.71 * (chars / words)) + (0.5 * (words / sentences)) - 21.43"
   ]
  },
  {
   "cell_type": "code",
   "execution_count": 70,
   "metadata": {},
   "outputs": [
    {
     "data": {
      "text/plain": [
       "13.851052631578945"
      ]
     },
     "execution_count": 70,
     "metadata": {},
     "output_type": "execute_result"
    }
   ],
   "source": [
    "auto_readability_index(fancy_doc)"
   ]
  },
  {
   "cell_type": "code",
   "execution_count": 71,
   "metadata": {},
   "outputs": [
    {
     "data": {
      "text/plain": [
       "8.638762457365601"
      ]
     },
     "execution_count": 71,
     "metadata": {},
     "output_type": "execute_result"
    }
   ],
   "source": [
    "auto_readability_index(doc)"
   ]
  },
  {
   "cell_type": "code",
   "execution_count": 72,
   "metadata": {},
   "outputs": [],
   "source": [
    "clinton_url = \"https://raw.githubusercontent.com/sul-cidr/python_workshops/master/data/clinton2000.txt\"\n",
    "bush_url = \"https://raw.githubusercontent.com/sul-cidr/python_workshops/master/data/bush2008.txt\"\n",
    "obama_url = \"https://raw.githubusercontent.com/sul-cidr/python_workshops/master/data/obama2016.txt\"\n",
    "trump_url = \"https://raw.githubusercontent.com/sul-cidr/python_workshops/master/data/trump.txt\""
   ]
  },
  {
   "cell_type": "code",
   "execution_count": 73,
   "metadata": {},
   "outputs": [],
   "source": [
    "clinton_speech = get_speech(clinton_url)\n",
    "bush_speech = get_speech(bush_url)\n",
    "obama_speech = get_speech(obama_url)\n",
    "trump_speech = get_speech(trump_url)"
   ]
  },
  {
   "cell_type": "code",
   "execution_count": 74,
   "metadata": {},
   "outputs": [],
   "source": [
    "speeches = {\n",
    "    \"clinton\": nlp(clinton_speech),\n",
    "    \"bush\": nlp(bush_speech),\n",
    "    \"obama\": nlp(obama_speech),\n",
    "    \"trump\": nlp(trump_speech),\n",
    "}"
   ]
  },
  {
   "cell_type": "code",
   "execution_count": 75,
   "metadata": {},
   "outputs": [
    {
     "name": "stdout",
     "output_type": "stream",
     "text": [
      "Name\tChars\tWords\tUnique\tSentences\n",
      "clinton\t42109\t9400\t2048\t524\n",
      "bush\t27370\t5852\t1673\t316\n",
      "obama\t27948\t6383\t1665\t450\n",
      "trump\t22382\t4819\t1532\t261\n"
     ]
    }
   ],
   "source": [
    "print(\"Name\", \"Chars\", \"Words\", \"Unique\", \"Sentences\", sep=\"\\t\")\n",
    "for speaker, speech in speeches.items():\n",
    "    words = return_words(speech)\n",
    "    print(speaker, count_chars(words), len(words), len(set(words)), len(list(speech.sents)), sep=\"\\t\")"
   ]
  },
  {
   "cell_type": "markdown",
   "metadata": {},
   "source": [
    "<div style=\"font-size: 1em; margin: 1em 0 1em 0; border: 1px solid #86989B; background-color: #f7f7f7; padding: 0;\">\n",
    "<p style=\"margin: 0; padding: 0.1em 0 0.1em 0.5em; color: white; border-bottom: 1px solid #86989B; font-weight: bold; background-color: #AFC1C4;\">\n",
    "Activity\n",
    "</p>\n",
    "<p style=\"margin: 0.5em 1em 0.5em 1em; padding: 0;\">\n",
    "Write a function `avg_sentence_length(blob)` that receives a spaCy `doc` and returns the average number of words in a sentence for the doc. You might need to use our `return_words` function.\n",
    "</p>\n",
    "</div>"
   ]
  },
  {
   "cell_type": "code",
   "execution_count": 76,
   "metadata": {},
   "outputs": [],
   "source": [
    "# average sentence length\n",
    "def avg_sentence_length(doc):\n",
    "    return sum(len(return_words(s)) for s in doc.sents) / len(list(doc.sents))"
   ]
  },
  {
   "cell_type": "code",
   "execution_count": 77,
   "metadata": {},
   "outputs": [
    {
     "name": "stdout",
     "output_type": "stream",
     "text": [
      "clinton 17.938931297709924\n",
      "bush 18.518987341772153\n",
      "obama 14.184444444444445\n",
      "trump 18.46360153256705\n"
     ]
    }
   ],
   "source": [
    "for speaker, speech in speeches.items():\n",
    "    print(speaker, avg_sentence_length(speech))"
   ]
  },
  {
   "cell_type": "markdown",
   "metadata": {},
   "source": [
    "We might stop to ask why Obama's speech seems to have shorter sentences. Is it deliberate rhetorical choice? Or could it be an issue with the data itself?\n",
    "\n",
    "In this case, if we look closely at the txt file, we can see that the transcription of the speech included the world 'applause' as a one word sentence throughout the text. Let's see what happens if we filter that out. "
   ]
  },
  {
   "cell_type": "code",
   "execution_count": 78,
   "metadata": {},
   "outputs": [],
   "source": [
    "obama_clean_speech = obama_speech.replace(\"(Applause.)\", \"\")"
   ]
  },
  {
   "cell_type": "code",
   "execution_count": 79,
   "metadata": {},
   "outputs": [
    {
     "data": {
      "text/plain": [
       "(35217, 34293)"
      ]
     },
     "execution_count": 79,
     "metadata": {},
     "output_type": "execute_result"
    }
   ],
   "source": [
    "# Let's compare lengths of the texts. We should see a difference.\n",
    "\n",
    "len(obama_speech), len(obama_clean_speech)"
   ]
  },
  {
   "cell_type": "code",
   "execution_count": 80,
   "metadata": {},
   "outputs": [
    {
     "data": {
      "text/plain": [
       "17.03485254691689"
      ]
     },
     "execution_count": 80,
     "metadata": {},
     "output_type": "execute_result"
    }
   ],
   "source": [
    "# Now let's recheck the average sentence length of Obama's speech.\n",
    "avg_sentence_length(nlp(obama_clean_speech))"
   ]
  },
  {
   "cell_type": "code",
   "execution_count": 81,
   "metadata": {},
   "outputs": [],
   "source": [
    "speeches = {\n",
    "    \"clinton\": nlp(clinton_speech),\n",
    "    \"bush\": nlp(bush_speech),\n",
    "    \"obama\": nlp(obama_clean_speech),\n",
    "    \"trump\": nlp(trump_speech),\n",
    "}"
   ]
  },
  {
   "cell_type": "markdown",
   "metadata": {},
   "source": [
    "Let's write a quick function to get the most common words used by each person"
   ]
  },
  {
   "cell_type": "code",
   "execution_count": 82,
   "metadata": {},
   "outputs": [],
   "source": [
    "def most_common_words(doc, n):\n",
    "    words = return_words(doc)\n",
    "    c = Counter(words)\n",
    "    return c.most_common(n)"
   ]
  },
  {
   "cell_type": "code",
   "execution_count": 83,
   "metadata": {
    "scrolled": true
   },
   "outputs": [
    {
     "name": "stdout",
     "output_type": "stream",
     "text": [
      "clinton [('to', 399), ('the', 369), ('and', 265), ('of', 209), ('in', 186), ('our', 155), ('a', 146), ('I', 146), ('we', 142), (' ', 132)]\n",
      "bush [('the', 278), ('and', 225), ('to', 183), ('of', 165), ('in', 117), ('our', 104), ('a', 104), ('we', 96), (' ', 70), ('that', 70)]\n",
      "obama [('the', 274), ('to', 206), ('of', 149), ('and', 142), ('that', 130), ('we', 121), ('a', 117), (' ', 107), ('in', 99), ('our', 85)]\n",
      "trump [('the', 215), ('and', 176), ('of', 142), ('to', 142), ('our', 101), ('a', 88), ('we', 72), ('in', 71), ('that', 61), ('is', 58)]\n"
     ]
    }
   ],
   "source": [
    "for speaker, speech in speeches.items():\n",
    "    print(speaker, most_common_words(speech, 10))"
   ]
  },
  {
   "cell_type": "markdown",
   "metadata": {},
   "source": [
    "You can see quickly that we need to remove some of these most common words. To do this, we'll use common lists of stopwords."
   ]
  },
  {
   "cell_type": "code",
   "execution_count": 85,
   "metadata": {
    "scrolled": true
   },
   "outputs": [
    {
     "name": "stdout",
     "output_type": "stream",
     "text": [
      "['how', 'moreover', 'front', 'eight', 'whereby', 'its', 'is', 'see', 'very', 'wherever', 'has', 'there', 'anywhere', 'both', 'but', 'noone', 'become', 'becomes', 'else', 'take', 'top', 'whereafter', 'same', 'quite', 'regarding', 'before', 'i', 'though', 'throughout', 'elsewhere', 'until', 'whether', 'their', 'something', 'ever', 'three', 'whereupon', 'move', 'forty', 'whole', 'everywhere', 'some', 'already', 'neither', 'perhaps', 'from', 'many', 'often', 'therefore', 'could', 'whereas', 'across', 'thereafter', 'eleven', 'several', 'the', 'beyond', 'nobody', 'here', 'along', 'my', 'alone', 'former', 'last', 'somewhere', 'twelve', 'just', 'anyway', 'than', 'at', 'yourselves', 'by', 'were', 'therein', 'otherwise', 'whence', 'among', 'six', 'every', 'using', 'various', 'four', 'nor', 'out', 'your', 'except', 'back', 'put', 'down', 'if', 'serious', 'what', 'upon', 'yourself', 'have', 'all', 'really', 'seemed', 'ca', 'then']\n"
     ]
    }
   ],
   "source": [
    "from spacy.lang.en.stop_words import STOP_WORDS\n",
    "print(list(STOP_WORDS)[:100])"
   ]
  },
  {
   "cell_type": "code",
   "execution_count": 86,
   "metadata": {},
   "outputs": [],
   "source": [
    "# to make sure we've got all the punctuation out and to remove some contractions, we'll have a custom stoplist\n",
    "custom_stopwords = [',', '-', '.', '’s', '-', ' ', '(', ')', '--', '---', 'n’t', ';', \"'s\", \"'ve\", \"  \", \"’ve\"]"
   ]
  },
  {
   "cell_type": "code",
   "execution_count": 87,
   "metadata": {},
   "outputs": [],
   "source": [
    "def most_common_words(doc, n):\n",
    "    words = [token.text for token in doc if token.pos_ is not 'PUNCT' \n",
    "             and token.lower_ not in STOP_WORDS and token.text not in custom_stopwords]\n",
    "    c = Counter(words)\n",
    "    return c.most_common(n)"
   ]
  },
  {
   "cell_type": "code",
   "execution_count": 88,
   "metadata": {},
   "outputs": [
    {
     "name": "stdout",
     "output_type": "stream",
     "text": [
      "clinton :  [('new', 46), ('ask', 43), ('people', 41), ('children', 38), ('years', 35), ('help', 35), ('America', 33), ('year', 29), ('work', 27), ('want', 27)] \n",
      "\n",
      "bush :  [('America', 34), ('people', 31), ('Congress', 27), ('year', 25), ('new', 24), ('Iraq', 22), ('American', 20), ('nation', 19), ('help', 18), ('trust', 17)] \n",
      "\n",
      "obama :  [('America', 33), ('people', 26), ('world', 23), ('work', 22), ('American', 22), ('want', 19), ('years', 18), ('change', 18), ('new', 18), ('year', 17)] \n",
      "\n",
      "trump :  [('American', 31), ('America', 30), ('new', 19), ('country', 18), ('people', 15), ('Americans', 15), ('Nation', 13), ('world', 13), ('United', 12), ('States', 12)] \n",
      "\n"
     ]
    }
   ],
   "source": [
    "for speaker, speech in speeches.items():\n",
    "    print(speaker, \": \", most_common_words(speech, 10), \"\\n\")"
   ]
  },
  {
   "cell_type": "markdown",
   "metadata": {},
   "source": [
    "This sort of exploratory work is often the first step in figuring out how to clean a text for text analysis. "
   ]
  },
  {
   "cell_type": "markdown",
   "metadata": {},
   "source": [
    "Let's assess the lexical richness, defined as the ratio of number of unique words by the number of total words."
   ]
  },
  {
   "cell_type": "code",
   "execution_count": 89,
   "metadata": {},
   "outputs": [],
   "source": [
    "def lexical_richness(doc):\n",
    "    words = return_words(doc)\n",
    "    return len(set(words)) / len(words)"
   ]
  },
  {
   "cell_type": "code",
   "execution_count": 90,
   "metadata": {},
   "outputs": [
    {
     "name": "stdout",
     "output_type": "stream",
     "text": [
      "clinton 0.2178723404255319\n",
      "bush 0.28588516746411485\n",
      "obama 0.2615675165250236\n",
      "trump 0.31790827972608426\n"
     ]
    }
   ],
   "source": [
    "for speaker, speech in speeches.items():\n",
    "    print(speaker, lexical_richness(speech))"
   ]
  },
  {
   "cell_type": "markdown",
   "metadata": {},
   "source": [
    "Let's look at the readbility scores for all four speeches now\n",
    "\n",
    "For the Automated Readability Index, you can get the appropriate grade level here: https://en.wikipedia.org/wiki/Automated_readability_index"
   ]
  },
  {
   "cell_type": "code",
   "execution_count": 91,
   "metadata": {
    "scrolled": true
   },
   "outputs": [
    {
     "name": "stdout",
     "output_type": "stream",
     "text": [
      "clinton ARI: 8.638762457365601 CL: 6.646373434685\n",
      "bush ARI: 9.858321422082248 CL: 7.968139771744301\n",
      "obama ARI: 7.3573271233168 CL: 5.580341615120549\n",
      "trump ARI: 9.677546771678834 CL: 7.550412919791167\n"
     ]
    }
   ],
   "source": [
    "for speaker, speech in speeches.items():\n",
    "    words = return_words(speech)\n",
    "    print(speaker, \"ARI:\", auto_readability_index(speech), \"CL:\", coleman_liau_index(speech, words))"
   ]
  },
  {
   "cell_type": "markdown",
   "metadata": {},
   "source": [
    "To get some comparison, let's also look at some stats calculated through Textacy. We'll see the ARI and CL scores, which use the same formulas we used. However, you might notice that the scores are different. To understand why, you have to dig into the source code for Textacy, where you'll find that it filters out punctuation in creating the word list, which affects the number of characters. It also lowercases the punctuation-filtered words before creating the set of unique words, decreasing that number as well compared to how we calculated it here. These changes affect both the ARI and CL scores."
   ]
  },
  {
   "cell_type": "code",
   "execution_count": 92,
   "metadata": {
    "scrolled": true
   },
   "outputs": [
    {
     "name": "stdout",
     "output_type": "stream",
     "text": [
      "{'ARI': 8.746233720558635, 'CL': 9.157630474212347, 'stats': {'n_sents': 524, 'n_words': 9268, 'n_chars': 41977, 'n_syllables': 13125, 'n_unique_words': 1918, 'n_long_words': 1969, 'n_monosyllable_words': 6701, 'n_polysyllable_words': 961}}\n",
      "{'ARI': 9.958682775745075, 'CL': 10.347694870264665, 'stats': {'n_sents': 316, 'n_words': 5781, 'n_chars': 27299, 'n_syllables': 8503, 'n_unique_words': 1585, 'n_long_words': 1420, 'n_monosyllable_words': 3967, 'n_polysyllable_words': 705}}\n",
      "{'ARI': 7.495050682145184, 'CL': 8.131090335102964, 'stats': {'n_sents': 373, 'n_words': 6216, 'n_chars': 27177, 'n_syllables': 8615, 'n_unique_words': 1568, 'n_long_words': 1197, 'n_monosyllable_words': 4580, 'n_polysyllable_words': 604}}\n",
      "{'ARI': 9.679193899314352, 'CL': 9.910002382523874, 'stats': {'n_sents': 261, 'n_words': 4818, 'n_chars': 22381, 'n_syllables': 6975, 'n_unique_words': 1425, 'n_long_words': 1138, 'n_monosyllable_words': 3340, 'n_polysyllable_words': 546}}\n"
     ]
    }
   ],
   "source": [
    "# https://en.wikipedia.org/wiki/Coleman%E2%80%93Liau_index\n",
    "# https://en.wikipedia.org/wiki/Automated_readability_index\n",
    "txt_speeches = [clinton_speech, bush_speech, obama_clean_speech, trump_speech]\n",
    "corpus = textacy.Corpus('en', txt_speeches)\n",
    "for doc in corpus:\n",
    "    stats = textacy.text_stats.TextStats(doc)\n",
    "    print({\n",
    "        \"ARI\": stats.automated_readability_index,\n",
    "        \"CL\": stats.coleman_liau_index,\n",
    "        \"stats\": stats.basic_counts\n",
    "    })"
   ]
  },
  {
   "cell_type": "markdown",
   "metadata": {},
   "source": [
    "Why do we have such a significant difference in the CL scores? Let's look quickly at the textacy implementation: https://github.com/chartbeat-labs/textacy/blob/5927d539dd989c090f8a0b0c06ba40bb204fce82/textacy/text_stats.py#L277"
   ]
  },
  {
   "cell_type": "code",
   "execution_count": 93,
   "metadata": {},
   "outputs": [
    {
     "name": "stdout",
     "output_type": "stream",
     "text": [
      "Name\tChars\tWords\tUnique\tSentences\n",
      "clinton\t42109\t9400\t2048\t524\n",
      "bush\t27370\t5852\t1673\t316\n",
      "obama\t27345\t6354\t1662\t373\n",
      "trump\t22382\t4819\t1532\t261\n"
     ]
    }
   ],
   "source": [
    "print(\"Name\", \"Chars\", \"Words\", \"Unique\", \"Sentences\", sep=\"\\t\")\n",
    "for speaker, speech in speeches.items():\n",
    "    words = return_words(speech)\n",
    "    print(speaker, count_chars(words), len(words), len(set(words)), len(list(speech.sents)), sep=\"\\t\")\n"
   ]
  },
  {
   "cell_type": "markdown",
   "metadata": {},
   "source": [
    "## Corpus level statistics"
   ]
  },
  {
   "cell_type": "code",
   "execution_count": 94,
   "metadata": {},
   "outputs": [
    {
     "name": "stdout",
     "output_type": "stream",
     "text": [
      "{'stats': {'n_sents': 524, 'n_words': 9268, 'n_chars': 41977, 'n_syllables': 13125, 'n_unique_words': 1918, 'n_long_words': 1969, 'n_monosyllable_words': 6701, 'n_polysyllable_words': 961}}\n",
      "{'stats': {'n_sents': 316, 'n_words': 5781, 'n_chars': 27299, 'n_syllables': 8503, 'n_unique_words': 1585, 'n_long_words': 1420, 'n_monosyllable_words': 3967, 'n_polysyllable_words': 705}}\n",
      "{'stats': {'n_sents': 373, 'n_words': 6216, 'n_chars': 27177, 'n_syllables': 8615, 'n_unique_words': 1568, 'n_long_words': 1197, 'n_monosyllable_words': 4580, 'n_polysyllable_words': 604}}\n",
      "{'stats': {'n_sents': 261, 'n_words': 4818, 'n_chars': 22381, 'n_syllables': 6975, 'n_unique_words': 1425, 'n_long_words': 1138, 'n_monosyllable_words': 3340, 'n_polysyllable_words': 546}}\n"
     ]
    }
   ],
   "source": [
    "# clinton, bush, obama, trump\n",
    "for doc in corpus:\n",
    "    stats = textacy.text_stats.TextStats(doc)\n",
    "    print({\n",
    "        \"stats\": stats.basic_counts\n",
    "    })"
   ]
  }
 ],
 "metadata": {
  "kernelspec": {
   "display_name": "Python 3",
   "language": "python",
   "name": "python3"
  },
  "language_info": {
   "codemirror_mode": {
    "name": "ipython",
    "version": 3
   },
   "file_extension": ".py",
   "mimetype": "text/x-python",
   "name": "python",
   "nbconvert_exporter": "python",
   "pygments_lexer": "ipython3",
   "version": "3.7.2"
  }
 },
 "nbformat": 4,
 "nbformat_minor": 2
}
